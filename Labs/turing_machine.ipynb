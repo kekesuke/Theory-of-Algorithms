{
 "cells": [
  {
   "cell_type": "markdown",
   "id": "eb3d46ae",
   "metadata": {},
   "source": [
    "# Turing machine\n",
    "\n",
    "***"
   ]
  },
  {
   "cell_type": "markdown",
   "id": "5974d1b6",
   "metadata": {},
   "source": [
    "$\\begin{array}{x{1cm}x{1cm}x{1cm}x{1cm}x{1cm}}\n",
    "    \\textrm{State} & \\textrm{Input} & \\textrm{Write} & \\textrm{Move} & \\textrm{Next} \\\\\n",
    "    \\hline\n",
    "    A & 0  & 0  & R & A \\\\\n",
    "    A & 1  & 1  & R & B \\\\\n",
    "    A & \\sqcup & \\sqcup & L & T \\\\\n",
    "    \\hline\n",
    "    B & 0  & 0  & R & B \\\\\n",
    "    B & 1  & 1  & R & A \\\\\n",
    "    B & \\sqcup & \\sqcup & L & F \\\\\n",
    "    \\hline\n",
    "\\end{array}$"
   ]
  },
  {
   "cell_type": "code",
   "execution_count": 1,
   "id": "ff8f32ec",
   "metadata": {},
   "outputs": [
    {
     "data": {
      "text/plain": [
       "[['A', '0', '0', 'R', 'A'],\n",
       " ['A', '1', '1', 'R', 'B'],\n",
       " ['A', '_', '_', 'L', 'T'],\n",
       " ['B', '0', '0', 'R', 'B'],\n",
       " ['B', '1', '1', 'R', 'A'],\n",
       " ['B', '_', '_', 'L', 'F']]"
      ]
     },
     "execution_count": 1,
     "metadata": {},
     "output_type": "execute_result"
    }
   ],
   "source": [
    "# Represent the state table in some Python data structure.\n",
    "states = [\n",
    "    ['A', '0', '0', 'R', 'A'],\n",
    "    ['A', '1', '1', 'R', 'B'],\n",
    "    ['A', '_', '_', 'L', 'T'],\n",
    "    ['B', '0', '0', 'R', 'B'],\n",
    "    ['B', '1', '1', 'R', 'A'],\n",
    "    ['B', '_', '_', 'L', 'F'],\n",
    "]\n",
    "states"
   ]
  },
  {
   "cell_type": "code",
   "execution_count": 2,
   "id": "39be352b",
   "metadata": {},
   "outputs": [],
   "source": [
    "# Get the Turing machine to take a single step forward.\n",
    "def step(tape, pos, state, states):\n",
    "    # If tape is an empty string, put a blank symbol on it.\n",
    "    if not tape:\n",
    "        tape = ['_'] + tape\n",
    "    # Select the correct row of the table.\n",
    "    for row in states:\n",
    "        if row[0] == state and row[1] == tape[pos]:\n",
    "            break\n",
    "    # Over-write current symbol.\n",
    "    tape[pos] = row[2]\n",
    "    # Move left or right.\n",
    "    if row[3] == 'R':\n",
    "        pos = pos + 1\n",
    "    else:\n",
    "        pos = pos - 1\n",
    "    # Fix the tape if we go off either end.\n",
    "    while pos < 0:\n",
    "        tape = ['_'] + tape\n",
    "        pos = pos + 1\n",
    "    while pos >= len(tape):\n",
    "        tape = tape + ['_']\n",
    "    # Change the state.\n",
    "    state = row[4]\n",
    "    # Return the new configuration.\n",
    "    return tape, pos, state"
   ]
  },
  {
   "cell_type": "code",
   "execution_count": 3,
   "id": "671e11eb",
   "metadata": {},
   "outputs": [],
   "source": [
    "# Run the machine.\n",
    "def run_machine(states, tape):\n",
    "    # Start state is top left in state table.\n",
    "    state = states[0][0]\n",
    "    # Starting position is leftmost cell of the tape.\n",
    "    pos = 0\n",
    "    # Turn the tape into a list.\n",
    "    tape = list(tape)\n",
    "    # Run the machine until we get a terminal state.\n",
    "    while state not in {'T', 'F'}:\n",
    "        # Display the current configuration.\n",
    "        print(state, f'{pos:2}', ''.join(tape))\n",
    "        # Step the machine forward.\n",
    "        tape, pos, state = step(tape, pos, state, states)\n",
    "    # Show the final configuration.\n",
    "    print(state, f'{pos:2}', ''.join(tape))"
   ]
  },
  {
   "cell_type": "code",
   "execution_count": 4,
   "id": "c3ec7d76",
   "metadata": {},
   "outputs": [
    {
     "name": "stdout",
     "output_type": "stream",
     "text": [
      "A  0 111\n",
      "B  1 111\n",
      "A  2 111\n",
      "B  3 111_\n",
      "F  2 111_\n"
     ]
    }
   ],
   "source": [
    "# Run an example.\n",
    "run_machine(states, '111')"
   ]
  },
  {
   "cell_type": "markdown",
   "id": "9ccc50f3",
   "metadata": {},
   "source": [
    "<br>\n",
    "\n",
    "## Halting Problem\n",
    "\"In computability theory, the halting problem is the problem of determining, from a description of an arbitrary computer program and an input, whether the program will finish running, or continue to run forever.\"\n",
    "\n",
    "***"
   ]
  },
  {
   "cell_type": "markdown",
   "id": "558d8956",
   "metadata": {},
   "source": [
    "\n",
    "\n",
    "Program: $p$. (for example program can be some algorithm)\n",
    "\n",
    "Encoding of $p$ in binary (i.e. $p$ as a string): $\\langle p \\rangle$.\n",
    "\n",
    "\n",
    "String: $x$. (The string x can be any string over alphabet.)\n",
    "\n",
    "\n",
    "$H = \\{\\langle p , x \\rangle \\ | \\  \\textrm{program } p \\textrm{ halts on input } x \\}$ ( $\\langle p , x \\rangle \\ $Is the set of encodings of a program $p$ and a string $x$ for example write the binary representation of $p$ beside the binary representation of $x$ )\n",
    "\n",
    "The only Strings that are in $H$ are the ones that represents any program and a string that the program is going to take (this is the definition of the set above). It will only include the encodings where $P$ halts(stop) on $X$.\n",
    "\n",
    "(The idea is that $p$ will run with $x$ as input, and $p$ in our case is the turing machine above)\n",
    "\n",
    "Contradiction:\n",
    "\n",
    "Suppose there is $A$: a Turing Machine that accepts all members of $H$ and rejects all non-members of $H$, i.e. $A$ decides $H$.\n",
    "\n",
    "$A$ has to be able to figure out if $p$ is a program that can get caught in an infinite loop. Basically we can think of $A$ as a compiler or interpreter.\n",
    "\n",
    "If we want $A$ to decide $H$ it should never get caught in an infinite loop. $A$ can't just simulate $p$ on $x$, it has to look at $p$ first and decide if its an inifnite loop.\n",
    "\n",
    "$B$: another Turing machine, takes an encoding $\\langle p \\rangle$ of a program $p$ and runs $A$ on $\\langle p , \\langle p \\rangle \\rangle$, accepts if and only if $A$ rejects, loops infinitely otherwise.\n",
    "\n",
    "What happens when $B$ receives $\\langle B \\rangle$ as input?\n",
    "\n",
    "Then $A$ gets called with $\\langle B, \\langle B \\rangle \\rangle$ as input.\n",
    "\n",
    "Now, $A$ must either accept or reject this input (it's a decider).\n",
    "\n",
    "If $A$ accepts: $B$ on input $\\langle B\\rangle$ halts. However, by $B$'s own definition, if $A$ accepts (which is this case), then $B$ infinitely loops with $\\langle B \\rangle$ as input. This can't happen - it's a contradiction.\n",
    "\n",
    "If $A$ rejects: $B$ on input $\\langle B\\rangle$ does not halt. So, $A$ should reject $\\langle B, \\langle B \\rangle \\rangle$, so then $B$ does halt (by accepting) on input $\\langle B \\rangle$. So, again there's a contradiction.\n",
    "\n",
    "So, the Turing machine $A$ cannot exist.\n",
    "\n",
    "\"Halting problem is perhaps the most well-known problem that has been proven to be undecidable; that is, there is no program that can solve the halting problem for general enough computer programs. It's important to specify what kind of computer programs we're talking about. In the above case, it's a Python program, but in computation theory, people often use Turing machines which are proven to be as strong as \"usual computers\". In 1936, Alan Turing proved that the halting problem over Turing machines is undecidable using a Turing machine; that is, no Turing machine can decide correctly (terminate and produce the correct answer) for all possible program/input pairs.\"\n",
    "\n",
    "\"The halting problem on Turing machines is undecidable. Conversely, the halting problem on finite state automata is easily decidable; all finite state automata halt. Thus it's important to specify the model. The halting problem on usual computers is also decidable.\"\n",
    "https://brilliant.org/wiki/halting-problem/#:~:text=The%20halting%20problem%20on%20Turing,usual%20computers%20is%20also%20decidable."
   ]
  },
  {
   "cell_type": "markdown",
   "id": "8ace4920-5d54-4146-b81d-79d1296876f8",
   "metadata": {
    "tags": []
   },
   "source": [
    "# Reference\n",
    "Lab Video: [Turing Machines](https://web.microsoftstream.com/video/34a8247a-a767-4190-bbb2-0c76756ddedd)\n",
    "\n",
    "Lab Video: [The Halting Problem](https://web.microsoftstream.com/video/d01b0c28-7276-49b3-a67b-af0219d6e6fe)\n",
    "\n",
    "brilliant: [Halting Problem](https://brilliant.org/wiki/halting-problem/)"
   ]
  },
  {
   "cell_type": "markdown",
   "id": "e06c7a8f",
   "metadata": {},
   "source": [
    "***\n",
    "## End"
   ]
  },
  {
   "cell_type": "code",
   "execution_count": null,
   "id": "aaa8449f-42ec-4d0b-b190-e600d749d03a",
   "metadata": {},
   "outputs": [],
   "source": []
  }
 ],
 "metadata": {
  "kernelspec": {
   "display_name": "Python 3",
   "language": "python",
   "name": "python3"
  },
  "language_info": {
   "codemirror_mode": {
    "name": "ipython",
    "version": 3
   },
   "file_extension": ".py",
   "mimetype": "text/x-python",
   "name": "python",
   "nbconvert_exporter": "python",
   "pygments_lexer": "ipython3",
   "version": "3.8.8"
  }
 },
 "nbformat": 4,
 "nbformat_minor": 5
}
