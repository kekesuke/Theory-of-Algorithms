{
 "cells": [
  {
   "cell_type": "markdown",
   "id": "259549a0-c4dc-4cbe-9a15-24c2041b0736",
   "metadata": {},
   "source": [
    "# Computing with the Integers\n",
    "\n",
    "***"
   ]
  },
  {
   "cell_type": "code",
   "execution_count": 1,
   "id": "45fa4815-d460-47e3-8d45-ce51b4cc2e11",
   "metadata": {},
   "outputs": [],
   "source": [
    "def double(i):\n",
    "    return 2 * i"
   ]
  },
  {
   "cell_type": "code",
   "execution_count": 7,
   "id": "2c8367b9-69f9-4bb2-aa9c-2b3855be57e8",
   "metadata": {},
   "outputs": [],
   "source": [
    "eg_list_of_inputs = [-9, -8, -7, -6, -5, -4, -3, -2, -1, 0, 1, 2, 3, 4, 5, 6, 7, 8, 9]"
   ]
  },
  {
   "cell_type": "code",
   "execution_count": 9,
   "id": "433a2e5d-1887-47c4-a0ab-3991cf3433b6",
   "metadata": {},
   "outputs": [
    {
     "data": {
      "text/plain": [
       "[-18, -16, -14, -12, -10, -8, -6, -4, -2, 0, 2, 4, 6, 8, 10, 12, 14, 16, 18]"
      ]
     },
     "execution_count": 9,
     "metadata": {},
     "output_type": "execute_result"
    }
   ],
   "source": [
    "eg_list_of_outputs = list(map(double, eg_list_of_inputs))\n",
    "eg_list_of_outputs"
   ]
  },
  {
   "cell_type": "code",
   "execution_count": 14,
   "id": "62d234de-bb4e-446c-86e0-ddb848948bbd",
   "metadata": {},
   "outputs": [
    {
     "name": "stdout",
     "output_type": "stream",
     "text": [
      " -9 ->  -18\n",
      " -8 ->  -16\n",
      " -7 ->  -14\n",
      " -6 ->  -12\n",
      " -5 ->  -10\n",
      " -4 ->   -8\n",
      " -3 ->   -6\n",
      " -2 ->   -4\n",
      " -1 ->   -2\n",
      "  0 ->    0\n",
      "  1 ->    2\n",
      "  2 ->    4\n",
      "  3 ->    6\n",
      "  4 ->    8\n",
      "  5 ->   10\n",
      "  6 ->   12\n",
      "  7 ->   14\n",
      "  8 ->   16\n",
      "  9 ->   18\n"
     ]
    }
   ],
   "source": [
    "for i in range(-9, 10):\n",
    "    print(f'{i:3} ->  {double(i):3}')"
   ]
  },
  {
   "cell_type": "markdown",
   "id": "0f2e1670-a5f5-4b08-8b9d-f525b460fadf",
   "metadata": {},
   "source": [
    "<br>\n",
    "\n",
    "$ f: \\mathbb{Z} \\rightarrow 2 \\mathbb{Z}$\n",
    "\n",
    "$ \\mathbb{Z} = \\{ \\ldots, -2, -1, 0, 1, 2, \\ldots \\}$\n",
    "\n",
    "$ 2 \\mathbb{Z} = \\{ \\ldots, -2, 0, 2, \\ldots \\}$\n",
    "\n",
    "$ 2 \\mathbb{Z} \\subset \\mathbb{Z}$\n",
    "\n",
    "$ | \\mathbb{Z} | $ is $\\aleph_0$ \n",
    "\n",
    "<br>"
   ]
  },
  {
   "cell_type": "markdown",
   "id": "ffa8ac58-bac1-4f34-b716-d100a2baf312",
   "metadata": {},
   "source": [
    "<br>\n",
    "\n",
    "## The Integers and the Reals\n",
    "\n",
    "***"
   ]
  },
  {
   "cell_type": "markdown",
   "id": "d13179f9-6b30-42cd-8048-8797ed68ceda",
   "metadata": {},
   "source": [
    "$\\mathbb{N}_0 = \\{0, 1, 2, 3, \\ldots \\}$\n",
    "\n",
    "$|\\mathbb{N}_0|$ is $\\aleph_0$\n",
    "\n",
    "$0 \\rightarrow 0$\n",
    "\n",
    "$1 \\rightarrow -1$\n",
    "\n",
    "$2 \\rightarrow 1$\n",
    "\n",
    "$3 \\rightarrow -2$\n",
    "\n",
    "$4 \\rightarrow 2$\n",
    "\n",
    "$\\ldots$"
   ]
  },
  {
   "cell_type": "code",
   "execution_count": 20,
   "id": "f0956382-71b8-4d4d-904e-40d6747f1016",
   "metadata": {},
   "outputs": [
    {
     "name": "stdout",
     "output_type": "stream",
     "text": [
      " 0 -> 0.99867128226455514906...\n",
      " 1 -> 0.35284860268720485976...\n",
      " 2 -> 0.13533267440850693664...\n",
      " 3 -> 0.81823371525176458174...\n",
      " 4 -> 0.69408123163274548784...\n",
      " 5 -> 0.96323135752975241886...\n",
      " 6 -> 0.11337369702854216413...\n",
      " 7 -> 0.64053828819459046606...\n",
      " 8 -> 0.55077359028029404531...\n",
      " 9 -> 0.80655899064818270539...\n",
      "and so on\n"
     ]
    }
   ],
   "source": [
    "import random\n",
    "\n",
    "for n in range(10):\n",
    "    print(f'{n:2} -> {random.random():0.20f}...')\n",
    "print('and so on')"
   ]
  },
  {
   "cell_type": "code",
   "execution_count": null,
   "id": "32ebfa16-ef40-47b6-8d9f-17ea0784bbcb",
   "metadata": {},
   "outputs": [],
   "source": [
    "0.0663927917..."
   ]
  },
  {
   "cell_type": "markdown",
   "id": "0dadd1e5-e485-4537-964c-fda098bab30f",
   "metadata": {},
   "source": [
    "$\\mathbb{N}_0 = \\{0, 1, 2, 3, \\ldots \\}$\n",
    "\n",
    "$\\mathbf{P}(\\mathbb{N}_0) = \\{ \\{\\}, \\{0\\}, \\{1\\}, \\{2\\}, \\{3\\}, \\ldots \\{0,1\\} \\ldots \\}$\n",
    "\n",
    "$|\\mathbf{P}(\\mathbb{N}_0)|$ is $\\aleph_1$"
   ]
  },
  {
   "cell_type": "code",
   "execution_count": null,
   "id": "ed0f9946-d256-4bcc-9f9b-eed889485a5f",
   "metadata": {},
   "outputs": [],
   "source": []
  }
 ],
 "metadata": {
  "kernelspec": {
   "display_name": "Python 3 (ipykernel)",
   "language": "python",
   "name": "python3"
  },
  "language_info": {
   "codemirror_mode": {
    "name": "ipython",
    "version": 3
   },
   "file_extension": ".py",
   "mimetype": "text/x-python",
   "name": "python",
   "nbconvert_exporter": "python",
   "pygments_lexer": "ipython3",
   "version": "3.9.7"
  }
 },
 "nbformat": 4,
 "nbformat_minor": 5
}
