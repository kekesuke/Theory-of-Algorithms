{
 "cells": [
  {
   "cell_type": "markdown",
   "id": "a32adcc3-dda8-435e-8e0d-2b21c5f3c535",
   "metadata": {
    "tags": []
   },
   "source": [
    "### Countdown Numbers game\n",
    "### $What$ $is$ $a$ $Countdown$ $Numbers$ $game$?\n",
    "Countdown Numbers game is a British TV game show. One of its rounds is called the Numbers round where the contestants choose 6 number cards out of the possible 24. The numbers are arranged in two categories: 20 small numbers ( two sets of 1 to 10) and 4 large numbers (25,50,75,100). After choosing, a random 3-digit number is generated, and the contestants have to work out a calculation that results in that number or as close to it as possible by using the previously selected numbers.  However, there are a few rules that have to be followed: <br>\n",
    "•    Each of the 6 selected numbers can be used once <br>\n",
    "•    Only the four basic operations can be used as many times as we want as long as the result doesn't lead to negative number for example $25 - 50$. The operations are: addition, subtraction, multiplication and division <br>\n",
    "Additionally,  not all 6 numbers have to be used. <br>\n",
    "•    We can do division as long as it lead to positive integer for example $\\frac{50}{25}$, what is not allowed is division that leads to a fraction for example $\\frac{50}{6}$ which is $8.33333$"
   ]
  },
  {
   "cell_type": "code",
   "execution_count": 1,
   "id": "eb877c5c-3f4d-440e-8780-0a53089d1f27",
   "metadata": {},
   "outputs": [],
   "source": [
    "#Permutations and combinations\n",
    "import itertools as it"
   ]
  },
  {
   "cell_type": "code",
   "execution_count": 2,
   "id": "ccb623a9-617d-462b-b5d1-6c78d93926f1",
   "metadata": {},
   "outputs": [],
   "source": [
    "#Random number generator\n",
    "import random"
   ]
  },
  {
   "cell_type": "code",
   "execution_count": 3,
   "id": "7a3e22d7-2e29-4695-88c3-dfc80b20da5f",
   "metadata": {},
   "outputs": [],
   "source": [
    "#Operators as function\n",
    "import operator"
   ]
  },
  {
   "cell_type": "code",
   "execution_count": 4,
   "id": "ddec4930-ea9e-4363-a869-6520868fcec8",
   "metadata": {},
   "outputs": [],
   "source": [
    "#We need the time module to count down 30 sec\n",
    "import time "
   ]
  },
  {
   "cell_type": "markdown",
   "id": "643c151c-ca00-4a74-9c3b-59660e6a7089",
   "metadata": {},
   "source": [
    "##### We're creating a function which is picking (generating) randomly playing numbers and a target numbers from the largenumbers and the small numbers and its returning them so we can use it later"
   ]
  },
  {
   "cell_type": "code",
   "execution_count": 5,
   "id": "80cbf6ce-6319-4344-9cf1-4a458ba17a0e",
   "metadata": {},
   "outputs": [],
   "source": [
    "#Randomly generate a game\n",
    "def new_numbers_game(numOfLargeNum=None):\n",
    "  \"\"\" Returns six numbers and a target number representing a Countdown numbers game. \"\"\"\n",
    "  # If numOfLargeNum in None, randomly pick value between 0 and 4 inclusive.\n",
    "  if numOfLargeNum is None:\n",
    "    # Randomly set the value.\n",
    "    numOfLargeNum = random.randrange(0, 5)\n",
    "  \n",
    "  # Select random large numbers.\n",
    "  large_rand = random.sample([25, 50, 75, 100], numOfLargeNum)\n",
    "  # Select random small numbers.\n",
    "  small_rand = random.sample(list(range(1, 11)) * 2, 6 - numOfLargeNum)\n",
    "  # The playing numbers.\n",
    "  play_numbers = large_rand + small_rand\n",
    "\n",
    "  # Select a target number.\n",
    "  target = random.randrange(101, 1000)\n",
    "\n",
    "  # Return the game.\n",
    "  return play_numbers, target"
   ]
  },
  {
   "cell_type": "code",
   "execution_count": 6,
   "id": "6a51bb07-8e8b-4007-b96b-8bb0f3183739",
   "metadata": {},
   "outputs": [
    {
     "data": {
      "text/plain": [
       "([25, 4, 5, 6, 7, 2], 823)"
      ]
     },
     "execution_count": 6,
     "metadata": {},
     "output_type": "execute_result"
    }
   ],
   "source": [
    "play_numbers, target = new_numbers_game()\n",
    "play_numbers, target"
   ]
  },
  {
   "cell_type": "markdown",
   "id": "fe48c8fd-8d81-47cb-ba07-1128e6714845",
   "metadata": {},
   "source": [
    "# $Reverse$ $Polish$ $Notation$ and $Binary$ $Expression$ $Tree$ (Patterns)\n",
    "***\n",
    "\n",
    "# $What$ $is$ [$RPN$](https://en.wikipedia.org/wiki/Reverse_Polish_notation)) ?\n",
    "\n",
    "##### Reverse Polish notation (RPN) is a method for conveying mathematical expressions without the use of separators such as brackets and parentheses. In this notation, the operators follow their operands, hence removing the need for brackets to define evaluation priority. We're going to use the RPN in the below patterns function as it gonna make our work easier by not having to have the brackets in your expressions.\n",
    "##### Example of RPN is provided below\n",
    "<div>\n",
    "<center><img src=\"images/rpn.png\" width=\"300![download.png](attachment:d974ecab-b3e7-45ce-99d3-76577393ed6d.png)\" /></center>\n",
    "</div>\n",
    "\n",
    "# $What$ $is$ [$Binary$ $Expression$ $Tree$](https://en.wikipedia.org/wiki/Binary_expression_tree)  ?\n",
    "##### \"A binary expression tree is a specific kind of a binary tree used to represent expressions. Two common types of expressions that a binary expression tree can represent are algebraic and boolean. These trees can represent expressions that contain both unary and binary operators.\"\n",
    "\n",
    "<div>\n",
    "<center><img src=\"images/binarytree.png\" width=\"300![download.png](attachment:d974ecab-b3e7-45ce-99d3-76577393ed6d.png)\" /></center>\n",
    "</div>\n",
    "\n",
    "##### To create all the possible solutions we can consider every possible expression(solution) a binary expression tree or we can call it a pattern. You can see an example of the binary tree in the above image.\n",
    "***"
   ]
  },
  {
   "cell_type": "code",
   "execution_count": 7,
   "id": "905095fa-2164-45b1-9154-692b975a0d55",
   "metadata": {},
   "outputs": [],
   "source": [
    "#Create a binary expression tree structore\n",
    "# Give all 2-partitions of a list\n",
    "# where each sublist has  one element.\n",
    "def patterns(numbers, operators):\n",
    "  # Check if there is no way to partition further.\n",
    "  if len(numbers) == 1:\n",
    "    yield numbers\n",
    "  # Loop through all the ways to partition L into two non-empty sublists.\n",
    "  for i in range(1, len(numbers)):\n",
    "    # Slice the list using i.\n",
    "    for left, right in it.product(patterns(numbers[:i], operators[1:i]), patterns(numbers[i:], operators[i:])):\n",
    "      # Yield the next operator applied to the sublists.\n",
    "      yield [*left, *right, operators[0]]"
   ]
  },
  {
   "cell_type": "markdown",
   "id": "50d32ce1-1e6a-4a0d-be43-59a205070a7b",
   "metadata": {},
   "source": [
    "Below code represent all the different patterns for given numbers, and operators"
   ]
  },
  {
   "cell_type": "code",
   "execution_count": 8,
   "id": "90cd19cf-248a-4eb2-929a-c699fd8625cb",
   "metadata": {},
   "outputs": [
    {
     "name": "stdout",
     "output_type": "stream",
     "text": [
      "[100, 75, 10, 4, 2, 1, '+', '+', '-', '*', '+']\n",
      "[100, 75, 10, 4, 2, '+', 1, '+', '-', '*', '+']\n",
      "[100, 75, 10, 4, '+', 2, 1, '+', '-', '*', '+']\n",
      "[100, 75, 10, 4, 2, '+', '+', 1, '-', '*', '+']\n",
      "[100, 75, 10, 4, '+', 2, '+', 1, '-', '*', '+']\n",
      "[100, 75, 10, '-', 4, 2, 1, '+', '+', '*', '+']\n",
      "[100, 75, 10, '-', 4, 2, '+', 1, '+', '*', '+']\n",
      "[100, 75, 10, 4, '+', '-', 2, 1, '+', '*', '+']\n",
      "[100, 75, 10, '+', 4, '-', 2, 1, '+', '*', '+']\n",
      "[100, 75, 10, 4, 2, '+', '+', '-', 1, '*', '+']\n",
      "[100, 75, 10, 4, '+', 2, '+', '-', 1, '*', '+']\n",
      "[100, 75, 10, '+', 4, 2, '+', '-', 1, '*', '+']\n",
      "[100, 75, 10, 4, '+', '+', 2, '-', 1, '*', '+']\n",
      "[100, 75, 10, '+', 4, '+', 2, '-', 1, '*', '+']\n",
      "[100, 75, '*', 10, 4, 2, 1, '+', '+', '-', '+']\n",
      "[100, 75, '*', 10, 4, 2, '+', 1, '+', '-', '+']\n",
      "[100, 75, '*', 10, 4, '+', 2, 1, '+', '-', '+']\n",
      "[100, 75, '*', 10, 4, 2, '+', '+', 1, '-', '+']\n",
      "[100, 75, '*', 10, 4, '+', 2, '+', 1, '-', '+']\n",
      "[100, 75, 10, '-', '*', 4, 2, 1, '+', '+', '+']\n",
      "[100, 75, 10, '-', '*', 4, 2, '+', 1, '+', '+']\n",
      "[100, 75, '-', 10, '*', 4, 2, 1, '+', '+', '+']\n",
      "[100, 75, '-', 10, '*', 4, 2, '+', 1, '+', '+']\n",
      "[100, 75, 10, 4, '+', '-', '*', 2, 1, '+', '+']\n",
      "[100, 75, 10, '+', 4, '-', '*', 2, 1, '+', '+']\n",
      "[100, 75, '-', 10, 4, '+', '*', 2, 1, '+', '+']\n",
      "[100, 75, 10, '+', '-', 4, '*', 2, 1, '+', '+']\n",
      "[100, 75, '+', 10, '-', 4, '*', 2, 1, '+', '+']\n",
      "[100, 75, 10, 4, 2, '+', '+', '-', '*', 1, '+']\n",
      "[100, 75, 10, 4, '+', 2, '+', '-', '*', 1, '+']\n",
      "[100, 75, 10, '+', 4, 2, '+', '-', '*', 1, '+']\n",
      "[100, 75, 10, 4, '+', '+', 2, '-', '*', 1, '+']\n",
      "[100, 75, 10, '+', 4, '+', 2, '-', '*', 1, '+']\n",
      "[100, 75, '-', 10, 4, 2, '+', '+', '*', 1, '+']\n",
      "[100, 75, '-', 10, 4, '+', 2, '+', '*', 1, '+']\n",
      "[100, 75, 10, '+', '-', 4, 2, '+', '*', 1, '+']\n",
      "[100, 75, '+', 10, '-', 4, 2, '+', '*', 1, '+']\n",
      "[100, 75, 10, 4, '+', '+', '-', 2, '*', 1, '+']\n",
      "[100, 75, 10, '+', 4, '+', '-', 2, '*', 1, '+']\n",
      "[100, 75, '+', 10, 4, '+', '-', 2, '*', 1, '+']\n",
      "[100, 75, 10, '+', '+', 4, '-', 2, '*', 1, '+']\n",
      "[100, 75, '+', 10, '+', 4, '-', 2, '*', 1, '+']\n"
     ]
    }
   ],
   "source": [
    "# An example list of six numbers.\n",
    "numbers = [100, 75, 10, 4, 2, 1]\n",
    "# Example operators.\n",
    "# operators = [operator.add, operator.mul, operator.sub, operator.add, operator.add]\n",
    "operators = ['+', '*', '-', '+', '+']\n",
    "# Using eval, which mightn't be great.\n",
    "for i in patterns(numbers, operators):\n",
    "  print(i)"
   ]
  },
  {
   "cell_type": "markdown",
   "id": "c169bc35-4d13-42f4-843b-f15d1106c4b9",
   "metadata": {
    "tags": []
   },
   "source": [
    "***\n",
    "##### Below you can find an evalution function which is getting rpn line as input and calculate it and return it.\n",
    "##### There are a few restrictions applied to that functions such as:\n",
    "##### As per the rules of the game I applied a few restrictions to the function below and they are as followed:\n",
    "1.   If the Operator is addition or multiplication calculate it as the order doesn't matter. For example 2+1 or 1+2, its the same thing.\n",
    "2.   If the Operator is subtraction and the left number - the right number is greater then 0 then continue as per rules above\n",
    "3.   if the operator is division check if the right number is not 0 as we cannot have a division by 0 and check if the left modules right number is == 0 as we cannot have a fractions either"
   ]
  },
  {
   "cell_type": "code",
   "execution_count": 9,
   "id": "46f1cb4e-aea5-4a3a-a20e-3ad3a74cc67b",
   "metadata": {},
   "outputs": [],
   "source": [
    "# Evaluate RPN expression.\n",
    "def eval_rpn(rpn):\n",
    "  # A stack.\n",
    "  stack = []\n",
    "  # Loop through rpn an item at a time.\n",
    "  for i in rpn:\n",
    "    # Check if it's a number.\n",
    "    if isinstance(i, int):\n",
    "      # Append to the stack.\n",
    "      stack = stack + [i]\n",
    "    else:\n",
    "      # Pop from stack twice.\n",
    "      right = stack[-1]\n",
    "      stack = stack[:-1]\n",
    "      left = stack[-1]\n",
    "      stack = stack[:-1]\n",
    "      # Push operator applied to stack elements.\n",
    "      #else if operator is addition or multiplication\n",
    "      if(i == operator.add or i== operator.mul):      \n",
    "        stack = stack + [i(left, right)]\n",
    "      #else if operator is substraction\n",
    "      elif (i == operator.sub):\n",
    "        if(left - right > 0):\n",
    "            stack = stack + [i(left, right)]\n",
    "        else:\n",
    "            stack = stack + [0]\n",
    "            continue\n",
    "      #If operator is divison\n",
    "      elif(i == operator.truediv):\n",
    "        if(right and left % right == 0):     \n",
    "            stack = stack + [i(left, right)]\n",
    "        else:\n",
    "            stack = stack + [0]\n",
    "            \n",
    "  # Should only be one item on stack.\n",
    "  return stack[0]"
   ]
  },
  {
   "cell_type": "code",
   "execution_count": 10,
   "id": "e9d730ab-a76b-4d03-a702-6f6ab9c2697c",
   "metadata": {},
   "outputs": [],
   "source": [
    "# Example operators.\n",
    "ops = [operator.add, operator.mul, operator.sub, operator.truediv]"
   ]
  },
  {
   "cell_type": "code",
   "execution_count": 11,
   "id": "c02e98e7-cf81-4c2d-b79b-e3661ead4ccd",
   "metadata": {},
   "outputs": [
    {
     "data": {
      "text/plain": [
       "823"
      ]
     },
     "execution_count": 11,
     "metadata": {},
     "output_type": "execute_result"
    }
   ],
   "source": [
    "target "
   ]
  },
  {
   "cell_type": "markdown",
   "id": "b2514536-e6d6-47c2-b387-3ab84b60e05f",
   "metadata": {},
   "source": [
    "###### In the function below we are getting all of the products for the operators,\n",
    "###### all the permutations of the numbers and combine it into a product and then we loop through different patterns based on those inputs. \n",
    "###### Afterwards we are calling the function from above eval_rpn to calculate the actual rpn and then compare it to the target. \n",
    "###### If we got the number of specified possible answer or answers or the time limit runs out of 30 sec the function is breaking out of the outer loop."
   ]
  },
  {
   "cell_type": "code",
   "execution_count": 12,
   "id": "db2a02c9-02c5-4572-8e36-7f2d76ad9a7a",
   "metadata": {},
   "outputs": [],
   "source": [
    "\n",
    "def checkPosibles(play_numbers, ops, num):\n",
    "    found = 0\n",
    "    timeout = time.time() + 30;\n",
    "    for play_num, opers in it.product(it.permutations(play_numbers), it.product(*([ops] * 5))):\n",
    "        for i in patterns(play_num, opers):\n",
    "         #if(eval_rpn(play_numbers) == target):\n",
    "            if(eval_rpn(i) == target):\n",
    "                found +=1\n",
    "                print(\"Solution \",found,eval_rpn(i), i)\n",
    "        if(time.time() >= timeout):\n",
    "            print(\"No solution found for 30 sec\")\n",
    "            break\n",
    "        if(found == num):\n",
    "            break"
   ]
  },
  {
   "cell_type": "markdown",
   "id": "34fe5500-d033-4f7a-84ec-f85c80775708",
   "metadata": {},
   "source": [
    "###### We can pass the playing numbers, the operators and the number of the solutions we want as parameters into the CheckPossibles function\n",
    "###### Feel free to download and mess around with the parameters to see what the outcome will be"
   ]
  },
  {
   "cell_type": "code",
   "execution_count": 13,
   "id": "6da5c501-8498-420b-868a-b21daea2ef2e",
   "metadata": {},
   "outputs": [
    {
     "name": "stdout",
     "output_type": "stream",
     "text": [
      "Solution  1 823 [25, 4, 5, <built-in function mul>, 6, <built-in function add>, 7, <built-in function add>, <built-in function mul>, 2, <built-in function sub>]\n",
      "Solution  2 823 [25, 4, 5, <built-in function mul>, 6, 7, <built-in function add>, <built-in function add>, <built-in function mul>, 2, <built-in function sub>]\n",
      "Solution  3 823 [25, 4, 5, <built-in function mul>, 7, <built-in function add>, 6, <built-in function add>, <built-in function mul>, 2, <built-in function sub>]\n"
     ]
    }
   ],
   "source": [
    "checkPosibles(play_numbers, ops, 3)"
   ]
  },
  {
   "cell_type": "markdown",
   "id": "97496634-eecc-406b-8a00-3aff0aa2a6f5",
   "metadata": {},
   "source": [
    "###### As you can see I am using the itertools module that is provided from python as the goal of that assignment was to make the code as functional as possible\n",
    "###### Also the itertools is a great module which provides a lot of functionality such as map, filters, reducers, permutations, combinations, combinations with replacements, products and so on.\n",
    "###### It depend what exactly you are trying to achieve I highly recommend you to check it out. \n",
    "***\n",
    "# $Lets$ $check$ $what$ $the$ $size$ $complexity$ $and$ $time$ $complexity$ $for$ $some$ $of$ $the$ $components$ $of$ $the$ $game$ $are$:"
   ]
  },
  {
   "cell_type": "markdown",
   "id": "64626c11-a7f3-41e5-9ced-e8cbcbd3bcdf",
   "metadata": {},
   "source": [
    "##### Time complexity:\n",
    "##### product() is $O(m*n)$, where m and n are the sizes of the two lists.\n",
    "##### permutations() You can iterate over $N!$ permutations, so time complexity to complete an iteration is $O(N!)$.\n",
    "##### patterns function has a nested for loop which most often can be interpreted as $O(n²)$ complexity"
   ]
  },
  {
   "cell_type": "code",
   "execution_count": 14,
   "id": "c21473ce-e6d1-451b-afb7-02980c2cc091",
   "metadata": {},
   "outputs": [
    {
     "data": {
      "text/plain": [
       "1024"
      ]
     },
     "execution_count": 14,
     "metadata": {},
     "output_type": "execute_result"
    }
   ],
   "source": [
    "# The Number of combinations of 5 operators with replacement is:\n",
    "4**5"
   ]
  },
  {
   "cell_type": "code",
   "execution_count": 15,
   "id": "a030a934-297e-4a44-9ea5-73e6f92e0e23",
   "metadata": {},
   "outputs": [
    {
     "data": {
      "text/plain": [
       "720"
      ]
     },
     "execution_count": 15,
     "metadata": {},
     "output_type": "execute_result"
    }
   ],
   "source": [
    "# The number of permutations of playing numbers is.\n",
    "import math\n",
    "math.factorial(6)"
   ]
  },
  {
   "cell_type": "code",
   "execution_count": 16,
   "id": "053c4f1a-87f5-451b-8ee7-7824be0a7f91",
   "metadata": {},
   "outputs": [
    {
     "data": {
      "text/plain": [
       "737280"
      ]
     },
     "execution_count": 16,
     "metadata": {},
     "output_type": "execute_result"
    }
   ],
   "source": [
    "# Lets multiply the numbers of combinations by the numbers of permutation to see how many possible solutions we can have\n",
    "4**5 * math.factorial(6)"
   ]
  },
  {
   "cell_type": "markdown",
   "id": "4c885d12-664f-4de3-bd3e-fea9007e7def",
   "metadata": {},
   "source": [
    "##### As we can see above the size of the problem is $737280$ which is quite a lot, if we do not use effient tools such as the itertools, or appropriate expressions like the binary expression tree. We will strugle with displaying a possible solution under 30 sec.\n",
    "\n",
    "# $Thanks$ $for$ $reading$!\n",
    "\n",
    "\n",
    "***"
   ]
  },
  {
   "cell_type": "markdown",
   "id": "a500d0f7-867f-4afd-bb88-03466bfa4ec6",
   "metadata": {},
   "source": [
    "# Refrences\n",
    "***\n",
    "1. Real Python docs: [Itertools](https://realpython.com/python-itertools/)\n",
    "2. Wikipedia: [Binary Expression Tree](https://en.wikipedia.org/wiki/Binary_expression_tree)\n",
    "3. Lab Video: [Countdown Numbers Simulation](https://web.microsoftstream.com/video/a3a01a62-d0be-4779-ab87-e530bda88ad9)\n",
    "4. Wikipedia:[Reverse Polish notation](https://en.wikipedia.org/wiki/Reverse_Polish_notation)\n",
    "5. Stackoverflow: [Generating all possible \"unique\" RPN expressions](https://stackoverflow.com/questions/54384059/generating-all-possible-unique-rpn-reverse-polish-notation-expressions)\n",
    "6. Lab Video: [Permutations with Subselections](https://web.microsoftstream.com/video/8b97b8b1-1231-44a9-9df8-b7a7346549f7)\n",
    "7. softwareengineering: [What is the time complexity of permutations?](https://softwareengineering.stackexchange.com/questions/336881/what-is-the-time-complexity-of-permutations)\n",
    "8. Lab Video: [Permutations, Combinations, and Operators](https://web.microsoftstream.com/video/8551ceef-c050-4935-9546-a4344a029e10)\n",
    "9. Pythonpool: [The A-Z of Python’s itertools.product() Method](https://www.pythonpool.com/pythons-itertool-product/#:~:text=Time%20complexity,-The%20time%20complexity&text=product()%20is%20O(m,sizes%20of%20the%20two%20lists.)\n",
    "8. Lab Video: [Countdown Numbers Game Solutions Online](https://web.microsoftstream.com/video/f325c7ce-6826-45a7-b54a-f7f112aff03f)\n",
    "9. Lab Video: [Countdown Binary Trees](https://web.microsoftstream.com/video/fcc7d635-d311-4eae-8f9f-5fa0c58007bd)\n",
    "10. Lab Video: [Coding the Partitions](https://web.microsoftstream.com/video/d05e9aee-c8e2-4182-ab69-56cdd59bcd29)\n",
    "11. Lab Video: [Functional Ideas](https://web.microsoftstream.com/video/cb094c75-8cff-40fb-9150-51a133d481ac)\n",
    "\n",
    "\n",
    "\n"
   ]
  }
 ],
 "metadata": {
  "kernelspec": {
   "display_name": "Python 3",
   "language": "python",
   "name": "python3"
  },
  "language_info": {
   "codemirror_mode": {
    "name": "ipython",
    "version": 3
   },
   "file_extension": ".py",
   "mimetype": "text/x-python",
   "name": "python",
   "nbconvert_exporter": "python",
   "pygments_lexer": "ipython3",
   "version": "3.8.8"
  }
 },
 "nbformat": 4,
 "nbformat_minor": 5
}
