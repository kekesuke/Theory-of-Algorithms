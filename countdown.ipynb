{
 "cells": [
  {
   "cell_type": "markdown",
   "id": "a32adcc3-dda8-435e-8e0d-2b21c5f3c535",
   "metadata": {
    "tags": []
   },
   "source": [
    "### Countdown Numbers game\n",
    "### What is a Countdown Numbers game?\n",
    "Countdown Numbers game is a British TV game show. One of its rounds is called the Numbers round where the contestants choose 6 number cards out of the possible 24. The numbers are arranged in two categories: 20 small numbers ( two sets of 1 to 10) and 4 large numbers (25,50,75,100). After choosing, a random 3-digit number is generated, and the contestants have to work out a calculation that results in that number or as close to it as possible by using the previously selected numbers.  However, there are a few rules that have to be followed: <br>\n",
    "•    Each of the 6 selected numbers can be used once <br>\n",
    "•    Only the four basic operations can be used – \n",
    "addition, subtraction, multiplication and division <br>\n",
    "Additionally,  not all 6 numbers have to be used. <br>\n",
    "Overview and explanation of the Countdown Numbers Game [3]."
   ]
  },
  {
   "cell_type": "code",
   "execution_count": null,
   "id": "eb877c5c-3f4d-440e-8780-0a53089d1f27",
   "metadata": {},
   "outputs": [],
   "source": []
  }
 ],
 "metadata": {
  "kernelspec": {
   "display_name": "Python 3",
   "language": "python",
   "name": "python3"
  },
  "language_info": {
   "codemirror_mode": {
    "name": "ipython",
    "version": 3
   },
   "file_extension": ".py",
   "mimetype": "text/x-python",
   "name": "python",
   "nbconvert_exporter": "python",
   "pygments_lexer": "ipython3",
   "version": "3.8.8"
  }
 },
 "nbformat": 4,
 "nbformat_minor": 5
}
