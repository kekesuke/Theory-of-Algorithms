{
 "cells": [
  {
   "cell_type": "markdown",
   "id": "0c9907af-4ac2-499d-9b62-1fe2b1abd99b",
   "metadata": {
    "tags": []
   },
   "source": [
    "# Post Correspondence Problem & Bounded Post Correspondence\n",
    "\n",
    "***"
   ]
  },
  {
   "cell_type": "markdown",
   "id": "30beeaaa-588c-4fcb-8940-b3a208e52c28",
   "metadata": {},
   "source": [
    "## What is an [Undecidable problem in computability theory](https://en.wikipedia.org/wiki/Undecidable_problem) ?\n",
    "##### Post Correspondence Problem\n",
    "An undecidable decision problem is a problem which cannot have an algorithm which can always provide a correct yes or no answer in finite time. Some of these problems are partially decidable but there will always be a condition to lead into an infinite loop with no answer."
   ]
  },
  {
   "cell_type": "markdown",
   "id": "850203d3-8f14-4de3-8229-6d7aba778574",
   "metadata": {},
   "source": [
    "## What is [Post Correspondence Problem](https://en.wikipedia.org/wiki/Post_correspondence_problem) ?\n",
    "Post Correspondence Problem is a popular undecidable problem that was introduced by Emil Leon Post in 1946.<br>\n",
    "The Post correspondence problem (PCP) is a tiling problem over strings. An instance of PCP is when you have two lists containing strings over the same alphabet and they are of the same length.<br>\n",
    "\n",
    "Lets assume the two lists are:<br>\n",
    "A = (x0, x1, x2,………, xn)<br>\n",
    "B = (y0, y1, y2,………, yn)<br>\n",
    "PCP is used to determine whether these two lists match. A post correspondence solution is a sequence of indices (i1,i2,………… ik)  where 1 ≤ ij ≤ n, the condition xi1 …….xik = yi1 …….yik satisfies.<br>\n",
    "For example:<br>\n",
    "A= [aa, bb, abb] <br>\n",
    "B= [aab, ba,b] <br>\n",
    "A solution to this problem would be the sequence (0, 1, 0, 2), because aabbaaabb = aabbaaabb.<br>\n",
    "\n",
    "If we take the following lists:\n",
    "A= [ab, bab, bbaaa]\n",
    "B = [a, ba, bab]\n",
    "This problem will not have a solution because the lengths aren’t the same.\n",
    "\n",
    "Example of correspondence and no correspondence is provided below.<br>\n"
   ]
  },
  {
   "cell_type": "markdown",
   "id": "e6ee22de-a26b-4832-95ec-f2b6db677089",
   "metadata": {},
   "source": [
    "****\n",
    "#### Definition and explanation of the Bounded Post Correspondence Problem.\n",
    "#### Python function to solve the Bounded Post Correspondence Problem. The function\n",
    "#### should take two lists of strings and return True if they correspond, False otherwise.\n",
    "#### Explanation of what an undecidable problem is in computability theory, with reference to the Post Correspondence Problem.\n",
    "****"
   ]
  },
  {
   "cell_type": "markdown",
   "id": "be775ead-c954-447d-a0aa-9341c80745f9",
   "metadata": {},
   "source": [
    "https://realpython.com/python-itertools/"
   ]
  },
  {
   "cell_type": "code",
   "execution_count": 82,
   "id": "6e6f6e0e-4a85-4e61-94ae-ad99fdb13ef6",
   "metadata": {},
   "outputs": [],
   "source": [
    "import itertools as it"
   ]
  },
  {
   "cell_type": "markdown",
   "id": "d1cdbf1c-6d60-4dd1-bcea-8ed0e5561cf8",
   "metadata": {},
   "source": [
    "## Lets look over the two [Sets](https://docs.python.org/3/tutorial/datastructures.html#sets)\n"
   ]
  },
  {
   "cell_type": "code",
   "execution_count": 1,
   "id": "d4128f20-073a-47d6-a4eb-b8e98a1aa104",
   "metadata": {},
   "outputs": [],
   "source": [
    "#set Alphabet for strings: a Set1 we specify the alhabet to clarify that there are two things thats important for the usual pcp\n",
    "\n",
    "# Sets are fundamental to pcp. In some of the variants of the problem such as the bounded PCP the size of the alphabet some times matter\n",
    "A = {'a', 'b'}"
   ]
  },
  {
   "cell_type": "markdown",
   "id": "359df43a-d6fe-4f0e-85df-069de7976dfa",
   "metadata": {},
   "source": [
    "#### The inputs are two lists and they must have same length. They have to contain strings over the same alphabet,\n",
    "#### and once we have the two list they either corresponds to each other or they dont.\n",
    "#### In which case there should be some or there is at least one S that containing indices \n",
    "#### from the two list and when we apply S to the two list we get the same string out.\n",
    "#### That mean they corresponds to each other or the alternative is that the two list dont correspond to each other.\n",
    "#### And proving that two list dont correspond is a little bit difficult\n",
    "***"
   ]
  },
  {
   "cell_type": "code",
   "execution_count": 2,
   "id": "0e2d5816-4a11-4f7e-9177-ab40eb4a7bab",
   "metadata": {},
   "outputs": [
    {
     "data": {
      "text/plain": [
       "set"
      ]
     },
     "execution_count": 2,
     "metadata": {},
     "output_type": "execute_result"
    }
   ],
   "source": [
    "#Curly braces are often used for sets\n",
    "type(A)"
   ]
  },
  {
   "cell_type": "code",
   "execution_count": 3,
   "id": "609e8625-f48e-42e7-8747-2ca45efc14ba",
   "metadata": {},
   "outputs": [
    {
     "data": {
      "text/plain": [
       "True"
      ]
     },
     "execution_count": 3,
     "metadata": {},
     "output_type": "execute_result"
    }
   ],
   "source": [
    "#Sets are unordered\n",
    "{'a', 'b'} == {'b', 'a'}"
   ]
  },
  {
   "cell_type": "code",
   "execution_count": 4,
   "id": "cdbfa61d-6fb5-4bc0-8b93-8e3af28f5a79",
   "metadata": {},
   "outputs": [
    {
     "data": {
      "text/plain": [
       "False"
      ]
     },
     "execution_count": 4,
     "metadata": {},
     "output_type": "execute_result"
    }
   ],
   "source": [
    "#Order does matter for lists\n",
    "['a', 'b'] == ['b', 'a']"
   ]
  },
  {
   "cell_type": "code",
   "execution_count": 5,
   "id": "92b22186-af31-489b-815b-22917426f5c2",
   "metadata": {},
   "outputs": [
    {
     "data": {
      "text/plain": [
       "{1, 2, 3}"
      ]
     },
     "execution_count": 5,
     "metadata": {},
     "output_type": "execute_result"
    }
   ],
   "source": [
    "#Using the set function to creat a set from a list.\n",
    "set([1,2,3])"
   ]
  },
  {
   "cell_type": "code",
   "execution_count": 6,
   "id": "0c89eda7-81e7-4068-814c-dc0c0299ed1f",
   "metadata": {},
   "outputs": [
    {
     "data": {
      "text/plain": [
       "{1, 2, 3}"
      ]
     },
     "execution_count": 6,
     "metadata": {},
     "output_type": "execute_result"
    }
   ],
   "source": [
    "#Sets don't keep count something is either in the set or it is not in the set\n",
    "set([1,2,2,3])"
   ]
  },
  {
   "cell_type": "code",
   "execution_count": 7,
   "id": "8ac17a46-0fe7-4098-a97a-a142853508ac",
   "metadata": {},
   "outputs": [
    {
     "data": {
      "text/plain": [
       "True"
      ]
     },
     "execution_count": 7,
     "metadata": {},
     "output_type": "execute_result"
    }
   ],
   "source": [
    "#Test whether or not an item is in the set.\n",
    "1 in {1, 2, 3}"
   ]
  },
  {
   "cell_type": "code",
   "execution_count": 8,
   "id": "b16fd739-f271-4f93-9441-02034d6f6fd6",
   "metadata": {},
   "outputs": [
    {
     "data": {
      "text/plain": [
       "False"
      ]
     },
     "execution_count": 8,
     "metadata": {},
     "output_type": "execute_result"
    }
   ],
   "source": [
    "'a' in {1, 2, 3}"
   ]
  },
  {
   "cell_type": "markdown",
   "id": "04622e9a-8a6a-4546-adb7-1b8c29f6c9f0",
   "metadata": {},
   "source": [
    "##### When a set is defined, it gives rise to a decision problem.\n",
    "##### The decision problem is: is a giving item in the set?\n"
   ]
  },
  {
   "cell_type": "markdown",
   "id": "a8252b9d-6857-46af-b140-bef768223c32",
   "metadata": {},
   "source": [
    "<br>\n",
    "\n",
    "# PCP problem using [Tuples](https://docs.python.org/3/tutorial/datastructures.html#tuples-and-sequences)\n",
    "\n",
    "***"
   ]
  },
  {
   "cell_type": "code",
   "execution_count": 9,
   "id": "8bec31d8-a7b0-4f13-9046-03fb741d0112",
   "metadata": {},
   "outputs": [
    {
     "data": {
      "text/plain": [
       "[1, 2, 3]"
      ]
     },
     "execution_count": 9,
     "metadata": {},
     "output_type": "execute_result"
    }
   ],
   "source": [
    "#List\n",
    "[1, 2, 3]"
   ]
  },
  {
   "cell_type": "code",
   "execution_count": 10,
   "id": "9f9aa637-80c6-4c29-919d-608bb2d4d83c",
   "metadata": {},
   "outputs": [
    {
     "data": {
      "text/plain": [
       "list"
      ]
     },
     "execution_count": 10,
     "metadata": {},
     "output_type": "execute_result"
    }
   ],
   "source": [
    "type([1, 2, 3])"
   ]
  },
  {
   "cell_type": "code",
   "execution_count": 11,
   "id": "e90add9f-04d2-413d-a3e6-da1f0531485e",
   "metadata": {},
   "outputs": [
    {
     "data": {
      "text/plain": [
       "(1, 2, 3)"
      ]
     },
     "execution_count": 11,
     "metadata": {},
     "output_type": "execute_result"
    }
   ],
   "source": [
    "#Tuple\n",
    "(1, 2, 3)"
   ]
  },
  {
   "cell_type": "code",
   "execution_count": 12,
   "id": "805eb72c-94a9-4777-aee9-03b7a18e2391",
   "metadata": {},
   "outputs": [
    {
     "data": {
      "text/plain": [
       "tuple"
      ]
     },
     "execution_count": 12,
     "metadata": {},
     "output_type": "execute_result"
    }
   ],
   "source": [
    "type((1, 2, 3))"
   ]
  },
  {
   "cell_type": "code",
   "execution_count": 13,
   "id": "728eca10-e5d2-4e4e-a1b0-c876025b09de",
   "metadata": {},
   "outputs": [],
   "source": [
    "#crate a list\n",
    "l = [1, 2, 3]"
   ]
  },
  {
   "cell_type": "code",
   "execution_count": 14,
   "id": "848494b1-dbfa-414f-b166-8fc5b42ba84e",
   "metadata": {},
   "outputs": [],
   "source": [
    "#reassign an element\n",
    "l[1] = 4"
   ]
  },
  {
   "cell_type": "code",
   "execution_count": 15,
   "id": "59e08d8e-9123-4ed8-ad01-cbbf7d8cad3a",
   "metadata": {},
   "outputs": [
    {
     "data": {
      "text/plain": [
       "[1, 4, 3]"
      ]
     },
     "execution_count": 15,
     "metadata": {},
     "output_type": "execute_result"
    }
   ],
   "source": [
    "#element is reassigned.\n",
    "l"
   ]
  },
  {
   "cell_type": "code",
   "execution_count": 16,
   "id": "277e6cfa-8302-4e4c-b9dc-3a49acfebf1a",
   "metadata": {},
   "outputs": [],
   "source": [
    "# Create a tuple\n",
    "t = (1 ,2 ,3)"
   ]
  },
  {
   "cell_type": "code",
   "execution_count": 17,
   "id": "d6f24034-4564-4332-b7a6-d77a214e63dd",
   "metadata": {},
   "outputs": [],
   "source": [
    "# Try to reassign\n",
    "# t[0] = 2\n",
    "# Wont work"
   ]
  },
  {
   "cell_type": "code",
   "execution_count": 18,
   "id": "a8073410-36f6-4f10-87b3-8b1e4d575e58",
   "metadata": {},
   "outputs": [],
   "source": [
    "# What a hash function is or does is it takes an object (usually a string input) in any size depend on your computer limits\n",
    "#all it does it spit an fixed output of length. It is designed to compare and very quickly complex objects. Thats the primary purpose of a hash functions."
   ]
  },
  {
   "cell_type": "code",
   "execution_count": 19,
   "id": "484bd6d0-4d62-47fd-bff0-82b4559216df",
   "metadata": {},
   "outputs": [],
   "source": [
    "# Can't hash a list as the list can change they are mutable and their hash values can change.\n",
    "# hash(l)"
   ]
  },
  {
   "cell_type": "code",
   "execution_count": 20,
   "id": "4ab1fed5-31db-4cf5-8b6c-d982d026f63d",
   "metadata": {},
   "outputs": [
    {
     "data": {
      "text/plain": [
       "529344067295497451"
      ]
     },
     "execution_count": 20,
     "metadata": {},
     "output_type": "execute_result"
    }
   ],
   "source": [
    "# But we can hash a tuple\n",
    "# Tuples are safe to be Hashed as the tuples are immutable. \n",
    "hash(t)"
   ]
  },
  {
   "cell_type": "code",
   "execution_count": 21,
   "id": "d9a8074e-5153-4e7a-a0be-b0461b4ff286",
   "metadata": {},
   "outputs": [
    {
     "data": {
      "text/plain": [
       "'0x7589b9fe71bcceb'"
      ]
     },
     "execution_count": 21,
     "metadata": {},
     "output_type": "execute_result"
    }
   ],
   "source": [
    "# usual output from hash function is in hex .\n",
    "# We use the hash function to speed up code where we campere object or finding them in dictiornary\n",
    "hex(hash(t))"
   ]
  },
  {
   "cell_type": "code",
   "execution_count": 22,
   "id": "26d121ce-c155-4597-aa64-332669c0ee90",
   "metadata": {},
   "outputs": [
    {
     "data": {
      "text/plain": [
       "3"
      ]
     },
     "execution_count": 22,
     "metadata": {},
     "output_type": "execute_result"
    }
   ],
   "source": [
    "# We can use tuples as dictionary keys.\n",
    "D = {(1, 2, 3): 3, (1, 2): 2}\n",
    "D[1, 2, 3] "
   ]
  },
  {
   "cell_type": "code",
   "execution_count": 23,
   "id": "fd7d8538-f9b6-4ad2-9c33-03ff68c6624b",
   "metadata": {},
   "outputs": [],
   "source": [
    "#D = {}\n",
    "#l = [1 , 2, 3]\n",
    "#D[l] = 3\n",
    "#l[2] = 4\n",
    "#D[l] -> doesn't exist thats why its not allowed to happen."
   ]
  },
  {
   "cell_type": "code",
   "execution_count": 24,
   "id": "d5f2ea53-16d9-4a17-9ed8-d2a2ccbdffb9",
   "metadata": {},
   "outputs": [],
   "source": [
    "#But we can't use list as dictionary keys.\n",
    "# D = {[1, 2, 3]: 3, [1, 2]: 2}"
   ]
  },
  {
   "cell_type": "code",
   "execution_count": 25,
   "id": "8f79c079-4fc3-4a27-bc4b-7b10b01bd4ae",
   "metadata": {},
   "outputs": [],
   "source": [
    "# Tuples can be used for assignement.\n",
    "a,b = 1,2"
   ]
  },
  {
   "cell_type": "code",
   "execution_count": 26,
   "id": "54860e83-55ea-438a-b6bc-8f12039c94c2",
   "metadata": {},
   "outputs": [
    {
     "data": {
      "text/plain": [
       "1"
      ]
     },
     "execution_count": 26,
     "metadata": {},
     "output_type": "execute_result"
    }
   ],
   "source": [
    "a"
   ]
  },
  {
   "cell_type": "markdown",
   "id": "c2ad24b9-b02d-4630-b0c7-87137815dcde",
   "metadata": {},
   "source": [
    "### Example of PCP Correspondence \n",
    "***"
   ]
  },
  {
   "cell_type": "code",
   "execution_count": 27,
   "id": "cb9d5b2d-54f1-4f58-abc4-0341747e0487",
   "metadata": {},
   "outputs": [],
   "source": [
    "a = 'a'\n",
    "b = 'b'"
   ]
  },
  {
   "cell_type": "code",
   "execution_count": 55,
   "id": "fa72c5c3-459e-45d0-ae9b-35ba77d26579",
   "metadata": {},
   "outputs": [],
   "source": [
    "# List 1 (Tuples)\n",
    "L1 = ((a, ), (a, b), (b, b, a))"
   ]
  },
  {
   "cell_type": "code",
   "execution_count": 56,
   "id": "05ab9b0c-9758-48ba-9d86-5fcf6ad365df",
   "metadata": {},
   "outputs": [
    {
     "data": {
      "text/plain": [
       "(('a',), ('a', 'b'), ('b', 'b', 'a'))"
      ]
     },
     "execution_count": 56,
     "metadata": {},
     "output_type": "execute_result"
    }
   ],
   "source": [
    "L1 "
   ]
  },
  {
   "cell_type": "code",
   "execution_count": 57,
   "id": "ea9b4947-481e-4290-b2c0-ecb3b2f1ae6f",
   "metadata": {},
   "outputs": [],
   "source": [
    "# List 2 (Tuples)\n",
    "L2 =((b, a, a), (a, a), (b, b)) "
   ]
  },
  {
   "cell_type": "code",
   "execution_count": 58,
   "id": "59356300-e575-47e6-9032-36587d80c90f",
   "metadata": {},
   "outputs": [
    {
     "data": {
      "text/plain": [
       "(('b', 'a', 'a'), ('a', 'a'), ('b', 'b'))"
      ]
     },
     "execution_count": 58,
     "metadata": {},
     "output_type": "execute_result"
    }
   ],
   "source": [
    "L2\n"
   ]
  },
  {
   "cell_type": "code",
   "execution_count": 74,
   "id": "d7ca623b-f638-489e-a246-d6ebbc276df6",
   "metadata": {},
   "outputs": [],
   "source": [
    "#We found an S. Its a proposed solution for those two list L1 and L2.\n",
    "#There was some way to take elements from List 1 and list them out anyway we wanted for ex. repeated.\n",
    "#Or we can have them in whatever order we want and if we list the elements from l2 in the exact way.\n",
    "#In our example when we concatenate them using the same indeces (S the list of indeces they have to be the same) we will end up with l1 to be exactly the same as L2\n",
    "#This solution showed the correspondance between those two list.\n",
    "S = (2, 1, 2, 0)"
   ]
  },
  {
   "cell_type": "code",
   "execution_count": 60,
   "id": "63aeb901-5b18-4c0f-a00e-91d7afd89d20",
   "metadata": {},
   "outputs": [],
   "source": [
    "#Function that applys proposed solution to a tuple. (S on L) \n",
    "\n",
    "def apply(S, L):\n",
    "    #List comprehension\n",
    "    S_on_L = [''.join(L[i]) for i in S]\n",
    "    return ''.join(S_on_L)\n",
    "    \n"
   ]
  },
  {
   "cell_type": "code",
   "execution_count": 61,
   "id": "b8d2c187-3a09-48ab-9cfe-08be43657179",
   "metadata": {},
   "outputs": [
    {
     "data": {
      "text/plain": [
       "'bbaabbbaa'"
      ]
     },
     "execution_count": 61,
     "metadata": {},
     "output_type": "execute_result"
    }
   ],
   "source": [
    "apply(S, L1)"
   ]
  },
  {
   "cell_type": "code",
   "execution_count": 62,
   "id": "244a4ee6-3da3-438d-aa66-94e8513ab8f7",
   "metadata": {},
   "outputs": [
    {
     "data": {
      "text/plain": [
       "'bbaabbbaa'"
      ]
     },
     "execution_count": 62,
     "metadata": {},
     "output_type": "execute_result"
    }
   ],
   "source": [
    "apply(S, L2)"
   ]
  },
  {
   "cell_type": "code",
   "execution_count": 65,
   "id": "1cdab78f-8d0e-435c-8d63-3b439cc37517",
   "metadata": {},
   "outputs": [
    {
     "data": {
      "text/plain": [
       "True"
      ]
     },
     "execution_count": 65,
     "metadata": {},
     "output_type": "execute_result"
    }
   ],
   "source": [
    "#check if the proposed solution is a solution\n",
    "apply(S, L1) == apply(S, L2)"
   ]
  },
  {
   "cell_type": "code",
   "execution_count": 67,
   "id": "23e95f82-3653-48d6-9af9-822b639ba3a6",
   "metadata": {},
   "outputs": [
    {
     "data": {
      "text/plain": [
       "'bbaabbbaabbaabbbaa'"
      ]
     },
     "execution_count": 67,
     "metadata": {},
     "output_type": "execute_result"
    }
   ],
   "source": [
    "#If you have one correspondce we have infinite of them\n",
    "apply((2, 1, 2, 0, 2, 1, 2, 0), L1)"
   ]
  },
  {
   "cell_type": "code",
   "execution_count": 66,
   "id": "749bf9f3-77c6-4a20-872e-f4a7b07cfbdd",
   "metadata": {},
   "outputs": [
    {
     "data": {
      "text/plain": [
       "'bbaabbbaabbaabbbaa'"
      ]
     },
     "execution_count": 66,
     "metadata": {},
     "output_type": "execute_result"
    }
   ],
   "source": [
    "apply((2, 1, 2, 0, 2, 1, 2, 0), L2)"
   ]
  },
  {
   "cell_type": "code",
   "execution_count": 68,
   "id": "443611c3-eddd-4f36-bb25-df4621b731c7",
   "metadata": {},
   "outputs": [
    {
     "data": {
      "text/plain": [
       "True"
      ]
     },
     "execution_count": 68,
     "metadata": {},
     "output_type": "execute_result"
    }
   ],
   "source": [
    "apply((2, 1, 2, 0, 2, 1, 2, 0), L1) == apply((2, 1, 2, 0, 2, 1, 2, 0), L2)"
   ]
  },
  {
   "cell_type": "markdown",
   "id": "0c23b9af-ab1a-418b-a309-1800956be2e7",
   "metadata": {},
   "source": [
    "<br>\n",
    "\n",
    "## Example for No correspondence \n",
    "***"
   ]
  },
  {
   "cell_type": "code",
   "execution_count": 75,
   "id": "aaf6d5d9-87db-4bbe-8787-898015f96051",
   "metadata": {
    "tags": []
   },
   "outputs": [],
   "source": [
    "#List one (tuples)\n",
    "L1 = ((a, b), (b, b, a))"
   ]
  },
  {
   "cell_type": "markdown",
   "id": "6d9211b0-e8e2-44d0-a178-2e0db6e4564b",
   "metadata": {},
   "source": [
    "##### We can try to brute force which mean to try all the possible solution of legth (one, two and so on). \n",
    "##### Which means to get each of the indeces for the elements of L1 and compare them elements in L2 when we concatenate them."
   ]
  },
  {
   "cell_type": "code",
   "execution_count": 76,
   "id": "23f0bd7c-9749-4c60-a0e5-72671e814e9b",
   "metadata": {},
   "outputs": [],
   "source": [
    "#List two (tuples)\n",
    "L2 = ((a, a), (b, b))"
   ]
  },
  {
   "cell_type": "code",
   "execution_count": 78,
   "id": "3ad7f836-ec81-401d-b5d4-af7320c463c8",
   "metadata": {},
   "outputs": [],
   "source": [
    "# Possibles ((0, ), (1, ), (0, 0), (0, 1), (1, 0), (1, 1), (0, 0, 0), (0, 0, 1), (0, 1, 0), (1, 0 , 0) and so on)\n",
    "# Each of the solution is finite, but number of possible solution that we have to check with the brute force is infinite. \n",
    "# We have infinite number of finite solutions that is the difficulties we face.\n",
    "# And as we can see the legnth is growing very big and we have only two characters defined in our alphabet it will be very hard to brute force it."
   ]
  },
  {
   "cell_type": "markdown",
   "id": "567d3132-c6b8-4eb1-bff8-5bcb76eda561",
   "metadata": {},
   "source": [
    "##  For these two particular list we can ask the question Is there any S that show correspondence between L1 and l2 ?\n",
    "## S = ?"
   ]
  },
  {
   "cell_type": "markdown",
   "id": "d956db15-4176-4d1d-acfb-d18f6176bcfc",
   "metadata": {},
   "source": [
    "#### The input for the correspondence problem  for an instance of it is two List  and the output is just true or false"
   ]
  },
  {
   "cell_type": "markdown",
   "id": "70aee9b9-d0f3-421c-bc54-88af61b1ccf4",
   "metadata": {},
   "source": [
    "$$ (L_1, L_2) \\rightarrow \\{True, False\\} \\qquad |L_1| = |L_2| $$"
   ]
  },
  {
   "cell_type": "markdown",
   "id": "df574feb-7fe3-4f75-8f66-ce35fe5633a9",
   "metadata": {},
   "source": [
    "\n",
    "#### We start with two list L1 and L2  we can take all possible finite lists (so every list has to have a finite length) of strings over the alphabet A & B \n",
    "#### and on that set of all possible strings create all of the pairs of strings and lets say L1 and L2 the two lists correspond to each other\n",
    "#### if there is an S that when we apply S to them they correspond we say True for them.\n",
    "#### Most of the lists they wont correspond to each other and we say False for them"
   ]
  },
  {
   "cell_type": "markdown",
   "id": "b36ca64a-148e-45a5-baba-d9caa307a1f0",
   "metadata": {},
   "source": [
    "#### What Emil Post showed is a logical proof based on the work of Turing that there is no algorithm available to solve this problem "
   ]
  },
  {
   "cell_type": "markdown",
   "id": "5a9ecfdb-db15-48ba-8ecf-8be9484e8226",
   "metadata": {},
   "source": [
    "<br>\n",
    "\n",
    "***"
   ]
  },
  {
   "cell_type": "markdown",
   "id": "d0491af7-8fd6-4388-81c2-f77ceb90c2e2",
   "metadata": {},
   "source": [
    "## What is [Bounded PCP](https://en.wikipedia.org/wiki/Post_correspondence_problem) ?\n",
    "One way to change the problem is to limit the number of tiles or indices in the solution S a.k.a. to bound S to K elements, where K is a positive integer. This is the most important variant of PCP called the Bounded Post Correspondence problem. The problem can be solved by a brute force algorithm, but it may be difficult since BPCP is NP-complete.\n",
    "****\n"
   ]
  },
  {
   "cell_type": "markdown",
   "id": "9dc49de3-e690-43b0-8dec-af035fc1e67a",
   "metadata": {},
   "source": [
    "$$ |s| \\leq K \\qquad K \\in \\mathbb{N} \\ $$ \n",
    "The size of S cant be any longer then K for some K\n",
    "\n"
   ]
  },
  {
   "cell_type": "code",
   "execution_count": 81,
   "id": "22e8b7e6-76b8-4f9e-b057-cd505182df82",
   "metadata": {},
   "outputs": [
    {
     "ename": "SyntaxError",
     "evalue": "invalid syntax (<ipython-input-81-3d7bbf06c2e2>, line 2)",
     "output_type": "error",
     "traceback": [
      "\u001b[1;36m  File \u001b[1;32m\"<ipython-input-81-3d7bbf06c2e2>\"\u001b[1;36m, line \u001b[1;32m2\u001b[0m\n\u001b[1;33m    if()\u001b[0m\n\u001b[1;37m        ^\u001b[0m\n\u001b[1;31mSyntaxError\u001b[0m\u001b[1;31m:\u001b[0m invalid syntax\n"
     ]
    }
   ],
   "source": [
    "def correspond(L1, L2):\n",
    "    if(L1 )\n"
   ]
  },
  {
   "cell_type": "code",
   "execution_count": 89,
   "id": "def1c561-b587-4230-9980-eb73bdbaddfa",
   "metadata": {},
   "outputs": [],
   "source": [
    "# K is the number of possibilities. How long the solution can be?\n",
    "# For example if K is 2 it correspond to ((0, ), (1, ), (0, 0), (0, 1), (1, 0), (1, 1)) and so on.\n",
    "#Bounded Version of PCP\n",
    "def bpcp_solver(L1, L2, K):\n",
    "    if correspond(L1, L2):\n",
    "        return true\n",
    "    else:\n",
    "        return false\n",
    "    return True or False\n"
   ]
  },
  {
   "cell_type": "code",
   "execution_count": 113,
   "id": "b85c6152-196d-4803-87f7-b05c53d6a967",
   "metadata": {},
   "outputs": [
    {
     "name": "stdout",
     "output_type": "stream",
     "text": [
      "(0,)\n",
      "(1,)\n",
      "(0, 0)\n",
      "(0, 1)\n",
      "(1, 0)\n",
      "(1, 1)\n",
      "(0, 0, 0)\n",
      "(0, 0, 1)\n",
      "(0, 1, 0)\n",
      "(0, 1, 1)\n",
      "(1, 0, 0)\n",
      "(1, 0, 1)\n",
      "(1, 1, 0)\n",
      "(1, 1, 1)\n",
      "(0, 0, 0, 0)\n",
      "(0, 0, 0, 1)\n",
      "(0, 0, 1, 0)\n",
      "(0, 0, 1, 1)\n",
      "(0, 1, 0, 0)\n",
      "(0, 1, 0, 1)\n",
      "(0, 1, 1, 0)\n",
      "(0, 1, 1, 1)\n",
      "(1, 0, 0, 0)\n",
      "(1, 0, 0, 1)\n",
      "(1, 0, 1, 0)\n",
      "(1, 0, 1, 1)\n",
      "(1, 1, 0, 0)\n",
      "(1, 1, 0, 1)\n",
      "(1, 1, 1, 0)\n",
      "(1, 1, 1, 1)\n"
     ]
    }
   ],
   "source": [
    "#The bound for the bouned problem\n",
    "K = 4\n",
    "\n",
    "#The generators\n",
    "gens  = []\n",
    "\n",
    "#Loop through all possible solutions\n",
    "for i in range(1, K + 1):\n",
    "    #creates a generator for solutions of legth i, appended to gens\n",
    "    gens.append(it.product(*[range(len(L1))]* i))\n",
    "    #print(list(it.product(*[range(len(L1))]* i)))\n",
    "\n",
    "#it.chain just chains generators togather.    \n",
    "for solution in it.chain(*gens):\n",
    "    print(solution)\n"
   ]
  },
  {
   "cell_type": "code",
   "execution_count": 107,
   "id": "9e267687-5db2-4c17-af4b-4cb0eaead6c9",
   "metadata": {},
   "outputs": [
    {
     "data": {
      "text/plain": [
       "[(0, 0), (0, 1), (1, 0), (1, 1)]"
      ]
     },
     "execution_count": 107,
     "metadata": {},
     "output_type": "execute_result"
    }
   ],
   "source": [
    "list(it.product(range(len(L1)), range(len(L2))))"
   ]
  },
  {
   "cell_type": "code",
   "execution_count": null,
   "id": "9a26e3ab-d21d-4fc8-986f-a3a756cd1e18",
   "metadata": {},
   "outputs": [],
   "source": []
  }
 ],
 "metadata": {
  "kernelspec": {
   "display_name": "Python 3",
   "language": "python",
   "name": "python3"
  },
  "language_info": {
   "codemirror_mode": {
    "name": "ipython",
    "version": 3
   },
   "file_extension": ".py",
   "mimetype": "text/x-python",
   "name": "python",
   "nbconvert_exporter": "python",
   "pygments_lexer": "ipython3",
   "version": "3.8.8"
  }
 },
 "nbformat": 4,
 "nbformat_minor": 5
}
