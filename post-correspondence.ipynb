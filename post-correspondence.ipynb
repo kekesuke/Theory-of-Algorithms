{
 "cells": [
  {
   "cell_type": "markdown",
   "id": "0c9907af-4ac2-499d-9b62-1fe2b1abd99b",
   "metadata": {
    "tags": []
   },
   "source": [
    "# Post Correspondence Problem\n",
    "https://en.wikipedia.org/wiki/Post_correspondence_problem\n",
    "***"
   ]
  },
  {
   "cell_type": "markdown",
   "id": "e6ee22de-a26b-4832-95ec-f2b6db677089",
   "metadata": {},
   "source": [
    "#### Definition and explanation of the Post Correspondence Problem.\n",
    "#### Definition and explanation of the Bounded Post Correspondence Problem.\n",
    "#### Python function to solve the Bounded Post Correspondence Problem. The function\n",
    "#### should take two lists of strings and return True if they correspond, False otherwise.\n",
    "#### Explanation of what an undecidable problem is in computability theory, with reference to the Post Correspondence Problem.\n"
   ]
  },
  {
   "cell_type": "code",
   "execution_count": 16,
   "id": "d4128f20-073a-47d6-a4eb-b8e98a1aa104",
   "metadata": {},
   "outputs": [],
   "source": [
    "#set Alphabet\n",
    "A = {'a', 'b'}"
   ]
  },
  {
   "cell_type": "markdown",
   "id": "359df43a-d6fe-4f0e-85df-069de7976dfa",
   "metadata": {},
   "source": [
    "### \n",
    "#### The inputs are two lists and they must have same length. They have to contain strings over the same alphabet,\n",
    "#### and once we have the two list they either corresponds to each other or they dont.\n",
    "#### In which case there should be some or there is at least one S that containing indices \n",
    "#### from the two list and when we apply S to the two list we get the same string out.\n",
    "#### That mean they corresponds to each other or the alternative is that the two list dont correspond to each other.\n",
    "#### And proving that two list dont correspond is a little bit difficult\n",
    "***"
   ]
  },
  {
   "cell_type": "code",
   "execution_count": 2,
   "id": "fa72c5c3-459e-45d0-ae9b-35ba77d26579",
   "metadata": {},
   "outputs": [],
   "source": [
    "L1 = ['a', 'ab', 'bba']"
   ]
  },
  {
   "cell_type": "code",
   "execution_count": 3,
   "id": "ea9b4947-481e-4290-b2c0-ecb3b2f1ae6f",
   "metadata": {},
   "outputs": [],
   "source": [
    "L2 = ['baa', 'aa', 'bb']"
   ]
  },
  {
   "cell_type": "code",
   "execution_count": 4,
   "id": "d7ca623b-f638-489e-a246-d6ebbc276df6",
   "metadata": {},
   "outputs": [],
   "source": [
    "S = [2, 1, 2, 0]"
   ]
  },
  {
   "cell_type": "code",
   "execution_count": 5,
   "id": "3eccdfd5-b20d-42e7-8159-219cb5ef9a43",
   "metadata": {},
   "outputs": [
    {
     "data": {
      "text/plain": [
       "'bbaabbbaa'"
      ]
     },
     "execution_count": 5,
     "metadata": {},
     "output_type": "execute_result"
    }
   ],
   "source": [
    "#Apply S to l1.\n",
    "'bba' + 'ab' 'bba' + 'a'"
   ]
  },
  {
   "cell_type": "code",
   "execution_count": 6,
   "id": "d86dc999-42d3-4e5e-b4ab-c4c3d5ee68e9",
   "metadata": {},
   "outputs": [
    {
     "data": {
      "text/plain": [
       "'bbaabbbaa'"
      ]
     },
     "execution_count": 6,
     "metadata": {},
     "output_type": "execute_result"
    }
   ],
   "source": [
    "#Apply S to l2.\n",
    "'bb' + 'aa' 'bb' + 'baa'"
   ]
  },
  {
   "cell_type": "markdown",
   "id": "fec1758f-7b7a-4cba-bc08-81c7d457ce3d",
   "metadata": {},
   "source": [
    "`L1` corresponds to `L2`."
   ]
  },
  {
   "cell_type": "code",
   "execution_count": 7,
   "id": "63aeb901-5b18-4c0f-a00e-91d7afd89d20",
   "metadata": {},
   "outputs": [],
   "source": [
    "#Function that applys S on L \n",
    "#\n",
    "def apply(S, L):\n",
    "    #List comp\n",
    "    S_on_L = [L[i] for i in S]\n",
    "    return ''.join(S_on_L)\n",
    "    \n"
   ]
  },
  {
   "cell_type": "code",
   "execution_count": 8,
   "id": "b8d2c187-3a09-48ab-9cfe-08be43657179",
   "metadata": {},
   "outputs": [
    {
     "data": {
      "text/plain": [
       "'bbaabbbaa'"
      ]
     },
     "execution_count": 8,
     "metadata": {},
     "output_type": "execute_result"
    }
   ],
   "source": [
    "apply(S, L1)"
   ]
  },
  {
   "cell_type": "code",
   "execution_count": 9,
   "id": "244a4ee6-3da3-438d-aa66-94e8513ab8f7",
   "metadata": {},
   "outputs": [
    {
     "data": {
      "text/plain": [
       "'bbaabbbaa'"
      ]
     },
     "execution_count": 9,
     "metadata": {},
     "output_type": "execute_result"
    }
   ],
   "source": [
    "apply(S, L2)"
   ]
  },
  {
   "cell_type": "code",
   "execution_count": 10,
   "id": "1cdab78f-8d0e-435c-8d63-3b439cc37517",
   "metadata": {},
   "outputs": [
    {
     "data": {
      "text/plain": [
       "True"
      ]
     },
     "execution_count": 10,
     "metadata": {},
     "output_type": "execute_result"
    }
   ],
   "source": [
    "apply(S, L1) == apply(S, L2)"
   ]
  },
  {
   "cell_type": "code",
   "execution_count": 14,
   "id": "23e95f82-3653-48d6-9af9-822b639ba3a6",
   "metadata": {},
   "outputs": [
    {
     "data": {
      "text/plain": [
       "'bbaabbbaabbaabbbaa'"
      ]
     },
     "execution_count": 14,
     "metadata": {},
     "output_type": "execute_result"
    }
   ],
   "source": [
    "#If you have one correspondce we have infinite of them\n",
    "apply([2, 1, 2, 0, 2, 1, 2, 0], L1)"
   ]
  },
  {
   "cell_type": "code",
   "execution_count": 12,
   "id": "749bf9f3-77c6-4a20-872e-f4a7b07cfbdd",
   "metadata": {},
   "outputs": [
    {
     "data": {
      "text/plain": [
       "'bbaabbbaabbaabbbaa'"
      ]
     },
     "execution_count": 12,
     "metadata": {},
     "output_type": "execute_result"
    }
   ],
   "source": [
    "apply([2, 1, 2, 0, 2, 1, 2, 0], L2)"
   ]
  },
  {
   "cell_type": "code",
   "execution_count": 13,
   "id": "443611c3-eddd-4f36-bb25-df4621b731c7",
   "metadata": {},
   "outputs": [
    {
     "data": {
      "text/plain": [
       "True"
      ]
     },
     "execution_count": 13,
     "metadata": {},
     "output_type": "execute_result"
    }
   ],
   "source": [
    "apply([2, 1, 2, 0, 2, 1, 2, 0], L1) == apply([2, 1, 2, 0, 2, 1, 2, 0], L2)"
   ]
  },
  {
   "cell_type": "markdown",
   "id": "0c23b9af-ab1a-418b-a309-1800956be2e7",
   "metadata": {},
   "source": [
    "<br>\n",
    "\n",
    "## No correspondence \n",
    "***"
   ]
  },
  {
   "cell_type": "code",
   "execution_count": null,
   "id": "aaf6d5d9-87db-4bbe-8787-898015f96051",
   "metadata": {},
   "outputs": [],
   "source": [
    "L1 = ['ab', 'bba']"
   ]
  },
  {
   "cell_type": "code",
   "execution_count": null,
   "id": "23f0bd7c-9749-4c60-a0e5-72671e814e9b",
   "metadata": {},
   "outputs": [],
   "source": [
    "L2 = ['aa', 'bb']"
   ]
  },
  {
   "cell_type": "code",
   "execution_count": 19,
   "id": "2400e880-f48d-4a99-a3fb-aae59a8c2d4b",
   "metadata": {},
   "outputs": [
    {
     "ename": "SyntaxError",
     "evalue": "invalid syntax (<ipython-input-19-f1d8473b24f8>, line 2)",
     "output_type": "error",
     "traceback": [
      "\u001b[1;36m  File \u001b[1;32m\"<ipython-input-19-f1d8473b24f8>\"\u001b[1;36m, line \u001b[1;32m2\u001b[0m\n\u001b[1;33m    S = ?\u001b[0m\n\u001b[1;37m        ^\u001b[0m\n\u001b[1;31mSyntaxError\u001b[0m\u001b[1;31m:\u001b[0m invalid syntax\n"
     ]
    }
   ],
   "source": [
    "#Is there any S that show correspondence between L1 and l2 ?\n",
    "S = ?"
   ]
  },
  {
   "cell_type": "markdown",
   "id": "d956db15-4176-4d1d-acfb-d18f6176bcfc",
   "metadata": {},
   "source": [
    "#### The input for the correspondence problem  for an instance of it is two List  and the output is just true or false"
   ]
  },
  {
   "cell_type": "markdown",
   "id": "70aee9b9-d0f3-421c-bc54-88af61b1ccf4",
   "metadata": {},
   "source": [
    "$$ (L_1, L_2) \\rightarrow \\{True, False\\} \\qquad |L_1| = |L_2| $$"
   ]
  },
  {
   "cell_type": "markdown",
   "id": "df574feb-7fe3-4f75-8f66-ce35fe5633a9",
   "metadata": {},
   "source": [
    "\n",
    "#### We start with two list L1 and L2  we can take all possible finite lists (so every list has to have a finite length) of strings over A & B \n",
    "#### and on that set of all possible strings create all of the pairs of strings and lets say L1 and L2 the two lists correspond to each other\n",
    "#### if there is an S that when we apply S to them they correspond we say True for them.\n",
    "#### Most of the lists they wont correspond to each other and we say False for them"
   ]
  },
  {
   "cell_type": "markdown",
   "id": "b36ca64a-148e-45a5-baba-d9caa307a1f0",
   "metadata": {},
   "source": [
    "#### What Emil Post showed logical proof based on the work of Turing that there is no algorithm to solve this problem "
   ]
  },
  {
   "cell_type": "code",
   "execution_count": null,
   "id": "f4d79757-dd06-4b27-9a2b-b323fb204c14",
   "metadata": {},
   "outputs": [],
   "source": []
  }
 ],
 "metadata": {
  "kernelspec": {
   "display_name": "Python 3",
   "language": "python",
   "name": "python3"
  },
  "language_info": {
   "codemirror_mode": {
    "name": "ipython",
    "version": 3
   },
   "file_extension": ".py",
   "mimetype": "text/x-python",
   "name": "python",
   "nbconvert_exporter": "python",
   "pygments_lexer": "ipython3",
   "version": "3.8.8"
  }
 },
 "nbformat": 4,
 "nbformat_minor": 5
}
