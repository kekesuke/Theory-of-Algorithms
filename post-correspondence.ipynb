{
 "cells": [
  {
   "cell_type": "markdown",
   "id": "0c9907af-4ac2-499d-9b62-1fe2b1abd99b",
   "metadata": {
    "tags": []
   },
   "source": [
    "# $Post$ $Correspondence$ $Problem$ & $Bounded$ $Post$ $Correspondence$\n",
    "\n",
    "***"
   ]
  },
  {
   "cell_type": "markdown",
   "id": "30beeaaa-588c-4fcb-8940-b3a208e52c28",
   "metadata": {},
   "source": [
    "## $What$ $is$ $an$ [$Undecidable$ $problem$ $in$ $computability$ $theory$](https://en.wikipedia.org/wiki/Undecidable_problem) ?\n",
    "An undecidable decision problem is a problem which cannot have an algorithm which can always provide a correct yes or no answer in finite time. Some of these problems are partially decidable but there will always be a condition to lead into an infinite loop with no answer. Below is an example of Turing Machine and Halting Problem"
   ]
  },
  {
   "cell_type": "markdown",
   "id": "ac9eb4f9-5791-444b-8c2f-ff58b2f22c3b",
   "metadata": {},
   "source": [
    "# [Turing Machines](https://web.microsoftstream.com/video/d01b0c28-7276-49b3-a67b-af0219d6e6fe)\n",
    "\n",
    "***"
   ]
  },
  {
   "cell_type": "markdown",
   "id": "a4213106-07dc-4c91-ba01-39a9669dc4aa",
   "metadata": {},
   "source": [
    "$\\begin{array}{x{1cm}x{1cm}x{1cm}x{1cm}x{1cm}}\n",
    "    \\textrm{State} & \\textrm{Input} & \\textrm{Write} & \\textrm{Move} & \\textrm{Next} \\\\\n",
    "    \\hline\n",
    "    A & 0  & 0  & R & A \\\\\n",
    "    A & 1  & 1  & R & B \\\\\n",
    "    A & \\sqcup & \\sqcup & L & T \\\\\n",
    "    \\hline\n",
    "    B & 0  & 0  & R & B \\\\\n",
    "    B & 1  & 1  & R & A \\\\\n",
    "    B & \\sqcup & \\sqcup & L & F \\\\\n",
    "    \\hline\n",
    "\\end{array}$"
   ]
  },
  {
   "cell_type": "code",
   "execution_count": 49,
   "id": "874bbd04-7d99-40a9-96d4-f1652cc470a8",
   "metadata": {},
   "outputs": [
    {
     "data": {
      "text/plain": [
       "[['A', '0', '0', 'R', 'A'],\n",
       " ['A', '1', '1', 'R', 'B'],\n",
       " ['A', '_', '_', 'L', 'T'],\n",
       " ['B', '0', '0', 'R', 'B'],\n",
       " ['B', '1', '1', 'R', 'A'],\n",
       " ['B', '_', '_', 'L', 'F']]"
      ]
     },
     "execution_count": 49,
     "metadata": {},
     "output_type": "execute_result"
    }
   ],
   "source": [
    "# Represent the state table in some Python data structure.\n",
    "states = [\n",
    "    ['A', '0', '0', 'R', 'A'],\n",
    "    ['A', '1', '1', 'R', 'B'],\n",
    "    ['A', '_', '_', 'L', 'T'],\n",
    "    ['B', '0', '0', 'R', 'B'],\n",
    "    ['B', '1', '1', 'R', 'A'],\n",
    "    ['B', '_', '_', 'L', 'F'],\n",
    "]\n",
    "states"
   ]
  },
  {
   "cell_type": "code",
   "execution_count": 50,
   "id": "69f22e61-9fcc-41f5-b64d-5f6528ce4856",
   "metadata": {},
   "outputs": [],
   "source": [
    "# Run the machine.\n",
    "def run_machine(states, tape):\n",
    "    # Start state is top left in state table.\n",
    "    state = states[0][0]\n",
    "    # Starting position is leftmost cell of the tape.\n",
    "    pos = 0\n",
    "    # Turn the tape into a list.\n",
    "    tape = list(tape)\n",
    "    # Run the machine until we get a terminal state.\n",
    "    while state not in {'T', 'F'}:\n",
    "        # Display the current configuration.\n",
    "        print(state, f'{pos:2}', ''.join(tape))\n",
    "        # Step the machine forward.\n",
    "        tape, pos, state = step(tape, pos, state, states)\n",
    "    # Show the final configuration.\n",
    "    print(state, f'{pos:2}', ''.join(tape))"
   ]
  },
  {
   "cell_type": "code",
   "execution_count": 52,
   "id": "bda5d1dd-d443-48d1-bcce-cf2acae29d80",
   "metadata": {},
   "outputs": [],
   "source": [
    "# Get the Turing machine to take a single step forward.\n",
    "def step(tape, pos, state, states):\n",
    "    # If tape is an empty string, put a blank symbol on it.\n",
    "    if not tape:\n",
    "        tape = ['_'] + tape\n",
    "    # Select the correct row of the table.\n",
    "    for row in states:\n",
    "        if row[0] == state and row[1] == tape[pos]:\n",
    "            break\n",
    "    # Over-write current symbol.\n",
    "    tape[pos] = row[2]\n",
    "    # Move left or right.\n",
    "    if row[3] == 'R':\n",
    "        pos = pos + 1\n",
    "    else:\n",
    "        pos = pos - 1\n",
    "    # Fix the tape if we go off either end.\n",
    "    while pos < 0:\n",
    "        tape = ['_'] + tape\n",
    "        pos = pos + 1\n",
    "    while pos >= len(tape):\n",
    "        tape = tape + ['_']\n",
    "    # Change the state.\n",
    "    state = row[4]\n",
    "    # Return the new configuration.\n",
    "    return tape, pos, state"
   ]
  },
  {
   "cell_type": "code",
   "execution_count": 54,
   "id": "fc242a76-8eb1-454e-9103-b7f9aac6331c",
   "metadata": {},
   "outputs": [
    {
     "name": "stdout",
     "output_type": "stream",
     "text": [
      "A  0 111\n",
      "B  1 111\n",
      "A  2 111\n",
      "B  3 111_\n",
      "F  2 111_\n"
     ]
    }
   ],
   "source": [
    "# Run an example.\n",
    "run_machine(states, '111')"
   ]
  },
  {
   "cell_type": "markdown",
   "id": "802bb99f-4abf-43a7-b570-4f37c99852ee",
   "metadata": {},
   "source": [
    "## $What$ $is$ [$Halting$ $Problem$](https://brilliant.org/wiki/halting-problem/) $?$\n",
    "\"In computability theory, the halting problem is the problem of determining, from a description of an arbitrary computer program and an input, whether the program will finish running, or continue to run forever.\"\n",
    "\n",
    "***"
   ]
  },
  {
   "cell_type": "markdown",
   "id": "54f308ed-6602-43c7-b296-f1170b06fd5f",
   "metadata": {},
   "source": [
    "Program: $p$. (for example program can be some algorithm)\n",
    "\n",
    "Encoding of $p$ in binary (i.e. $p$ as a string): $\\langle p \\rangle$.\n",
    "\n",
    "\n",
    "String: $x$. (The string x can be any string over alphabet.)\n",
    "\n",
    "\n",
    "$H = \\{\\langle p , x \\rangle \\ | \\  \\textrm{program } p \\textrm{ halts on input } x \\}$ ( $\\langle p , x \\rangle \\ $Is the set of encodings of a program $p$ and a string $x$ for example write the binary representation of $p$ beside the binary representation of $x$ )\n",
    "\n",
    "The only Strings that are in $H$ are the ones that represents any program and a string that the program is going to take (this is the definition of the set above). It will only include the encodings where $P$ halts(stop) on $X$.\n",
    "\n",
    "(The idea is that $p$ will run with $x$ as input, and $p$ in our case is the turing machine above)\n",
    "\n",
    "Contradiction:\n",
    "\n",
    "Suppose there is $A$: a Turing Machine that accepts all members of $H$ and rejects all non-members of $H$, i.e. $A$ decides $H$.\n",
    "\n",
    "$A$ has to be able to figure out if $p$ is a program that can get caught in an infinite loop. Basically we can think of $A$ as a compiler or interpreter.\n",
    "\n",
    "If we want $A$ to decide $H$ it should never get caught in an infinite loop. $A$ can't just simulate $p$ on $x$, it has to look at $p$ first and decide if its an inifnite loop.\n",
    "\n",
    "$B$: another Turing machine, takes an encoding $\\langle p \\rangle$ of a program $p$ and runs $A$ on $\\langle p , \\langle p \\rangle \\rangle$, accepts if and only if $A$ rejects, loops infinitely otherwise.\n",
    "\n",
    "What happens when $B$ receives $\\langle B \\rangle$ as input?\n",
    "\n",
    "Then $A$ gets called with $\\langle B, \\langle B \\rangle \\rangle$ as input.\n",
    "\n",
    "Now, $A$ must either accept or reject this input (it's a decider).\n",
    "\n",
    "If $A$ accepts: $B$ on input $\\langle B\\rangle$ halts. However, by $B$'s own definition, if $A$ accepts (which is this case), then $B$ infinitely loops with $\\langle B \\rangle$ as input. This can't happen - it's a contradiction.\n",
    "\n",
    "If $A$ rejects: $B$ on input $\\langle B\\rangle$ does not halt. So, $A$ should reject $\\langle B, \\langle B \\rangle \\rangle$, so then $B$ does halt (by accepting) on input $\\langle B \\rangle$. So, again there's a contradiction.\n",
    "\n",
    "So, the Turing machine $A$ cannot exist.\n",
    "\n",
    "\"Halting problem is perhaps the most well-known problem that has been proven to be undecidable; that is, there is no program that can solve the halting problem for general enough computer programs. It's important to specify what kind of computer programs we're talking about. In the above case, it's a Python program, but in computation theory, people often use Turing machines which are proven to be as strong as \"usual computers\". In 1936, Alan Turing proved that the halting problem over Turing machines is undecidable using a Turing machine; that is, no Turing machine can decide correctly (terminate and produce the correct answer) for all possible program/input pairs.\"\n",
    "\n",
    "\"The halting problem on Turing machines is undecidable. Conversely, the halting problem on finite state automata is easily decidable; all finite state automata halt. Thus it's important to specify the model. The halting problem on usual computers is also decidable.\" Lets check what is PCP below.\n",
    "***"
   ]
  },
  {
   "cell_type": "markdown",
   "id": "850203d3-8f14-4de3-8229-6d7aba778574",
   "metadata": {},
   "source": [
    "## $What$ $is$ [$Post$ $Correspondence$ $Problem$](https://en.wikipedia.org/wiki/Post_correspondence_problem) ?\n",
    "Post Correspondence Problem is a popular undecidable problem that was introduced by Emil Leon Post in 1946.<br>\n",
    "The Post correspondence problem (PCP) is a tiling problem over strings. An instance of PCP is when you have two lists containing strings over the same alphabet and they are of the same length.<br>\n",
    "\n",
    "Lets assume the two lists are:<br>\n",
    "\n",
    "\n",
    "$A = (x_0, x_1, x_2,...,x_n)$ <br>\n",
    "$B = (y_0, y_1, y_2,...,y_n)$\n",
    "\n",
    "PCP is used to determine whether these two lists match. A post correspondence solution is a sequence of indices $(i_1, i_2,...,i_k)$ where  $1\\leq i_j \\leq n$, the condition  $x_i1,...,x_ik = y_i1,...,y_ik$ satisfies.<br>\n",
    "\n",
    "\n",
    "For example:<br>\n",
    "$A= [aa, bb, abb]$ <br>\n",
    "$B= [aab, ba,b] $<br>\n",
    "A solution to this problem would be the sequence $(0, 1, 0, 2)$, because $aabbaaabb$ = $aabbaaabb$.<br>\n",
    "\n",
    "If we take the following lists:\n",
    "$A= [ab, bab, bbaaa]$\n",
    "$B = [a, ba, bab]$\n",
    "\n",
    "This problem will not have a solution because the lengths aren’t the same.\n",
    "\n",
    "Example of $Correspondence$, $No-Correspondence$ and $Bounded$ $PCP$ is provided below.<br>\n"
   ]
  },
  {
   "cell_type": "code",
   "execution_count": 1,
   "id": "6e6f6e0e-4a85-4e61-94ae-ad99fdb13ef6",
   "metadata": {},
   "outputs": [],
   "source": [
    "import itertools as it"
   ]
  },
  {
   "cell_type": "markdown",
   "id": "d1cdbf1c-6d60-4dd1-bcea-8ed0e5561cf8",
   "metadata": {},
   "source": [
    "## $Lets$ $look$ $over$ [$Sets$](https://docs.python.org/3/tutorial/datastructures.html#sets)\n"
   ]
  },
  {
   "cell_type": "code",
   "execution_count": 2,
   "id": "d4128f20-073a-47d6-a4eb-b8e98a1aa104",
   "metadata": {},
   "outputs": [],
   "source": [
    "# Sets are fundamental to pcp. In some of the variants of the problem such as the bounded PCP the size of the alphabet some times matter\n",
    "#set Alphabet for strings: we specify the alhabet to clarify that there are two things thats important for the usual pcp\n",
    "A = {'a', 'b'}"
   ]
  },
  {
   "cell_type": "code",
   "execution_count": 3,
   "id": "0e2d5816-4a11-4f7e-9177-ab40eb4a7bab",
   "metadata": {},
   "outputs": [
    {
     "data": {
      "text/plain": [
       "set"
      ]
     },
     "execution_count": 3,
     "metadata": {},
     "output_type": "execute_result"
    }
   ],
   "source": [
    "#Curly braces are often used for sets\n",
    "type(A)"
   ]
  },
  {
   "cell_type": "code",
   "execution_count": 4,
   "id": "609e8625-f48e-42e7-8747-2ca45efc14ba",
   "metadata": {},
   "outputs": [
    {
     "data": {
      "text/plain": [
       "True"
      ]
     },
     "execution_count": 4,
     "metadata": {},
     "output_type": "execute_result"
    }
   ],
   "source": [
    "#Sets are unordered\n",
    "{'a', 'b'} == {'b', 'a'}"
   ]
  },
  {
   "cell_type": "code",
   "execution_count": 5,
   "id": "cdbfa61d-6fb5-4bc0-8b93-8e3af28f5a79",
   "metadata": {},
   "outputs": [
    {
     "data": {
      "text/plain": [
       "False"
      ]
     },
     "execution_count": 5,
     "metadata": {},
     "output_type": "execute_result"
    }
   ],
   "source": [
    "#Order does matter for lists\n",
    "['a', 'b'] == ['b', 'a']"
   ]
  },
  {
   "cell_type": "code",
   "execution_count": 6,
   "id": "92b22186-af31-489b-815b-22917426f5c2",
   "metadata": {},
   "outputs": [
    {
     "data": {
      "text/plain": [
       "{1, 2, 3}"
      ]
     },
     "execution_count": 6,
     "metadata": {},
     "output_type": "execute_result"
    }
   ],
   "source": [
    "#Using the set function to creat a set from a list.\n",
    "set([1,2,3])"
   ]
  },
  {
   "cell_type": "code",
   "execution_count": 7,
   "id": "0c89eda7-81e7-4068-814c-dc0c0299ed1f",
   "metadata": {},
   "outputs": [
    {
     "data": {
      "text/plain": [
       "{1, 2, 3}"
      ]
     },
     "execution_count": 7,
     "metadata": {},
     "output_type": "execute_result"
    }
   ],
   "source": [
    "#Sets don't keep count something is either in the set or it is not in the set\n",
    "set([1,2,2,3])"
   ]
  },
  {
   "cell_type": "code",
   "execution_count": 8,
   "id": "8ac17a46-0fe7-4098-a97a-a142853508ac",
   "metadata": {},
   "outputs": [
    {
     "data": {
      "text/plain": [
       "True"
      ]
     },
     "execution_count": 8,
     "metadata": {},
     "output_type": "execute_result"
    }
   ],
   "source": [
    "#Test whether or not an item is in the set.\n",
    "1 in {1, 2, 3}"
   ]
  },
  {
   "cell_type": "code",
   "execution_count": 9,
   "id": "b16fd739-f271-4f93-9441-02034d6f6fd6",
   "metadata": {},
   "outputs": [
    {
     "data": {
      "text/plain": [
       "False"
      ]
     },
     "execution_count": 9,
     "metadata": {},
     "output_type": "execute_result"
    }
   ],
   "source": [
    "'a' in {1, 2, 3}"
   ]
  },
  {
   "cell_type": "markdown",
   "id": "04622e9a-8a6a-4546-adb7-1b8c29f6c9f0",
   "metadata": {},
   "source": [
    "##### When a set is defined, it gives rise to a decision problem.\n",
    "##### The decision problem is: $Is$ $a$ $given$ $item$ $in$ $the$ $set$?\n"
   ]
  },
  {
   "cell_type": "markdown",
   "id": "a8252b9d-6857-46af-b140-bef768223c32",
   "metadata": {},
   "source": [
    "***\n",
    "# $Diffrences$ $between$ $List$ $and$ $Tuples$\n",
    "\n",
    "***"
   ]
  },
  {
   "cell_type": "code",
   "execution_count": 10,
   "id": "8bec31d8-a7b0-4f13-9046-03fb741d0112",
   "metadata": {},
   "outputs": [
    {
     "data": {
      "text/plain": [
       "[1, 2, 3]"
      ]
     },
     "execution_count": 10,
     "metadata": {},
     "output_type": "execute_result"
    }
   ],
   "source": [
    "#List\n",
    "[1, 2, 3]"
   ]
  },
  {
   "cell_type": "code",
   "execution_count": 11,
   "id": "9f9aa637-80c6-4c29-919d-608bb2d4d83c",
   "metadata": {},
   "outputs": [
    {
     "data": {
      "text/plain": [
       "list"
      ]
     },
     "execution_count": 11,
     "metadata": {},
     "output_type": "execute_result"
    }
   ],
   "source": [
    "type([1, 2, 3])"
   ]
  },
  {
   "cell_type": "code",
   "execution_count": 12,
   "id": "e90add9f-04d2-413d-a3e6-da1f0531485e",
   "metadata": {},
   "outputs": [
    {
     "data": {
      "text/plain": [
       "(1, 2, 3)"
      ]
     },
     "execution_count": 12,
     "metadata": {},
     "output_type": "execute_result"
    }
   ],
   "source": [
    "#Tuple\n",
    "(1, 2, 3)"
   ]
  },
  {
   "cell_type": "code",
   "execution_count": 13,
   "id": "805eb72c-94a9-4777-aee9-03b7a18e2391",
   "metadata": {},
   "outputs": [
    {
     "data": {
      "text/plain": [
       "tuple"
      ]
     },
     "execution_count": 13,
     "metadata": {},
     "output_type": "execute_result"
    }
   ],
   "source": [
    "type((1, 2, 3))"
   ]
  },
  {
   "cell_type": "code",
   "execution_count": 14,
   "id": "728eca10-e5d2-4e4e-a1b0-c876025b09de",
   "metadata": {},
   "outputs": [],
   "source": [
    "#crate a list\n",
    "l = [1, 2, 3]"
   ]
  },
  {
   "cell_type": "code",
   "execution_count": 15,
   "id": "848494b1-dbfa-414f-b166-8fc5b42ba84e",
   "metadata": {},
   "outputs": [],
   "source": [
    "#reassign an element\n",
    "l[1] = 4"
   ]
  },
  {
   "cell_type": "code",
   "execution_count": 16,
   "id": "59e08d8e-9123-4ed8-ad01-cbbf7d8cad3a",
   "metadata": {},
   "outputs": [
    {
     "data": {
      "text/plain": [
       "[1, 4, 3]"
      ]
     },
     "execution_count": 16,
     "metadata": {},
     "output_type": "execute_result"
    }
   ],
   "source": [
    "#element is reassigned.\n",
    "l"
   ]
  },
  {
   "cell_type": "code",
   "execution_count": 17,
   "id": "277e6cfa-8302-4e4c-b9dc-3a49acfebf1a",
   "metadata": {},
   "outputs": [],
   "source": [
    "# Create a tuple\n",
    "t = (1 ,2 ,3)"
   ]
  },
  {
   "cell_type": "code",
   "execution_count": 18,
   "id": "d6f24034-4564-4332-b7a6-d77a214e63dd",
   "metadata": {},
   "outputs": [],
   "source": [
    "# Try to reassign\n",
    "# t[0] = 2\n",
    "# It Won't work as tuples are immutable"
   ]
  },
  {
   "cell_type": "code",
   "execution_count": 19,
   "id": "a8073410-36f6-4f10-87b3-8b1e4d575e58",
   "metadata": {},
   "outputs": [],
   "source": [
    "# What a hash function is or does is it takes an object (usually a string input) in any size depend on your computer limits\n",
    "# all it does it spit an fixed output of length. It is designed to compare and very quickly complex objects. Thats the primary purpose of a hash functions."
   ]
  },
  {
   "cell_type": "code",
   "execution_count": 20,
   "id": "484bd6d0-4d62-47fd-bff0-82b4559216df",
   "metadata": {},
   "outputs": [],
   "source": [
    "# Can't hash a list as the list can change they are mutable and their hash values can change.\n",
    "# hash(l)"
   ]
  },
  {
   "cell_type": "code",
   "execution_count": 21,
   "id": "4ab1fed5-31db-4cf5-8b6c-d982d026f63d",
   "metadata": {},
   "outputs": [
    {
     "data": {
      "text/plain": [
       "529344067295497451"
      ]
     },
     "execution_count": 21,
     "metadata": {},
     "output_type": "execute_result"
    }
   ],
   "source": [
    "# But we can hash a tuple\n",
    "# Tuples are safe to be Hashed as the tuples are immutable. \n",
    "hash(t)"
   ]
  },
  {
   "cell_type": "code",
   "execution_count": 22,
   "id": "d9a8074e-5153-4e7a-a0be-b0461b4ff286",
   "metadata": {},
   "outputs": [
    {
     "data": {
      "text/plain": [
       "'0x7589b9fe71bcceb'"
      ]
     },
     "execution_count": 22,
     "metadata": {},
     "output_type": "execute_result"
    }
   ],
   "source": [
    "# usual output from hash function is in hex .\n",
    "# We use the hash function to speed up code where we campere object or finding them in dictiornary\n",
    "hex(hash(t))"
   ]
  },
  {
   "cell_type": "code",
   "execution_count": 23,
   "id": "26d121ce-c155-4597-aa64-332669c0ee90",
   "metadata": {},
   "outputs": [
    {
     "data": {
      "text/plain": [
       "3"
      ]
     },
     "execution_count": 23,
     "metadata": {},
     "output_type": "execute_result"
    }
   ],
   "source": [
    "# We can use tuples as dictionary keys.\n",
    "D = {(1, 2, 3): 3, (1, 2): 2}\n",
    "D[1, 2, 3] "
   ]
  },
  {
   "cell_type": "code",
   "execution_count": 24,
   "id": "fd7d8538-f9b6-4ad2-9c33-03ff68c6624b",
   "metadata": {},
   "outputs": [],
   "source": [
    "#D = {}\n",
    "#l = [1 , 2, 3]\n",
    "#D[l] = 3\n",
    "#l[2] = 4\n",
    "#D[l] -> doesn't exist thats why it's not allowed to happen."
   ]
  },
  {
   "cell_type": "code",
   "execution_count": 25,
   "id": "d5f2ea53-16d9-4a17-9ed8-d2a2ccbdffb9",
   "metadata": {},
   "outputs": [],
   "source": [
    "#But we can't use list as dictionary keys.\n",
    "# D = {[1, 2, 3]: 3, [1, 2]: 2}"
   ]
  },
  {
   "cell_type": "code",
   "execution_count": 26,
   "id": "8f79c079-4fc3-4a27-bc4b-7b10b01bd4ae",
   "metadata": {},
   "outputs": [],
   "source": [
    "# Tuples can be used for assignement.\n",
    "a,b = 1,2"
   ]
  },
  {
   "cell_type": "code",
   "execution_count": 27,
   "id": "54860e83-55ea-438a-b6bc-8f12039c94c2",
   "metadata": {},
   "outputs": [
    {
     "data": {
      "text/plain": [
       "1"
      ]
     },
     "execution_count": 27,
     "metadata": {},
     "output_type": "execute_result"
    }
   ],
   "source": [
    "a"
   ]
  },
  {
   "cell_type": "markdown",
   "id": "c2ad24b9-b02d-4630-b0c7-87137815dcde",
   "metadata": {},
   "source": [
    "***\n",
    "### $Example$ $of$ $PCP-Correspondence$ $using$ $Tuples$\n",
    "***"
   ]
  },
  {
   "cell_type": "markdown",
   "id": "218ae74e-3abe-4c06-8864-dba0c515d2b9",
   "metadata": {},
   "source": [
    "The inputs are two lists $(L1,L2)$ that contain strings over the same alphabet. In order for them to correspond they have to be of the same length and be finite. To find whether there is a correspondence, there is at least one solution ($S$) containing indices (i.e. 0,1,2) for these lists. These indices can be repeated and be in any order. Then if we take the indices from $S$ and apply them to our two lists $L1$ and $L2$, and we get the same string this means that the two lists correspond otherwise they don't."
   ]
  },
  {
   "cell_type": "code",
   "execution_count": 55,
   "id": "cb9d5b2d-54f1-4f58-abc4-0341747e0487",
   "metadata": {},
   "outputs": [],
   "source": [
    "a = 'a'\n",
    "b = 'b'"
   ]
  },
  {
   "cell_type": "code",
   "execution_count": 29,
   "id": "fa72c5c3-459e-45d0-ae9b-35ba77d26579",
   "metadata": {},
   "outputs": [],
   "source": [
    "# List 1 (Tuples)\n",
    "L1 = ((a, ), (a, b), (b, b, a))"
   ]
  },
  {
   "cell_type": "code",
   "execution_count": 30,
   "id": "05ab9b0c-9758-48ba-9d86-5fcf6ad365df",
   "metadata": {},
   "outputs": [
    {
     "data": {
      "text/plain": [
       "(('a',), ('a', 'b'), ('b', 'b', 'a'))"
      ]
     },
     "execution_count": 30,
     "metadata": {},
     "output_type": "execute_result"
    }
   ],
   "source": [
    "L1 "
   ]
  },
  {
   "cell_type": "code",
   "execution_count": 31,
   "id": "ea9b4947-481e-4290-b2c0-ecb3b2f1ae6f",
   "metadata": {},
   "outputs": [],
   "source": [
    "# List 2 (Tuples)\n",
    "L2 =((b, a, a), (a, a), (b, b)) "
   ]
  },
  {
   "cell_type": "code",
   "execution_count": 32,
   "id": "59356300-e575-47e6-9032-36587d80c90f",
   "metadata": {},
   "outputs": [
    {
     "data": {
      "text/plain": [
       "(('b', 'a', 'a'), ('a', 'a'), ('b', 'b'))"
      ]
     },
     "execution_count": 32,
     "metadata": {},
     "output_type": "execute_result"
    }
   ],
   "source": [
    "L2\n"
   ]
  },
  {
   "cell_type": "code",
   "execution_count": 56,
   "id": "d7ca623b-f638-489e-a246-d6ebbc276df6",
   "metadata": {},
   "outputs": [],
   "source": [
    "#We found an S. Its a proposed solution for those two list L1 and L2.\n",
    "#There was some way to take elements from List 1 and list them out anyway we wanted for ex. repeated.\n",
    "#Or we can have them in whatever order we want and if we list the elements from l2 in the exact way.\n",
    "#In our example when we concatenate them using the same indeces (S the list of indeces they have to be the same) we will end up with l1 to be exactly the same as L2\n",
    "#This solution showed the correspondance between those two list.\n",
    "\n",
    "S = (2, 1, 2, 0)"
   ]
  },
  {
   "cell_type": "code",
   "execution_count": 34,
   "id": "63aeb901-5b18-4c0f-a00e-91d7afd89d20",
   "metadata": {},
   "outputs": [],
   "source": [
    "#Function that applys proposed solution to a tuple. (S on L) \n",
    "def apply(S, L):\n",
    "    #List comprehension\n",
    "    S_on_L = [''.join(L[i]) for i in S]\n",
    "    return ''.join(S_on_L)  "
   ]
  },
  {
   "cell_type": "code",
   "execution_count": 35,
   "id": "b8d2c187-3a09-48ab-9cfe-08be43657179",
   "metadata": {},
   "outputs": [
    {
     "data": {
      "text/plain": [
       "'bbaabbbaa'"
      ]
     },
     "execution_count": 35,
     "metadata": {},
     "output_type": "execute_result"
    }
   ],
   "source": [
    "apply(S, L1)"
   ]
  },
  {
   "cell_type": "code",
   "execution_count": 36,
   "id": "244a4ee6-3da3-438d-aa66-94e8513ab8f7",
   "metadata": {},
   "outputs": [
    {
     "data": {
      "text/plain": [
       "'bbaabbbaa'"
      ]
     },
     "execution_count": 36,
     "metadata": {},
     "output_type": "execute_result"
    }
   ],
   "source": [
    "apply(S, L2)"
   ]
  },
  {
   "cell_type": "code",
   "execution_count": 37,
   "id": "1cdab78f-8d0e-435c-8d63-3b439cc37517",
   "metadata": {},
   "outputs": [
    {
     "data": {
      "text/plain": [
       "True"
      ]
     },
     "execution_count": 37,
     "metadata": {},
     "output_type": "execute_result"
    }
   ],
   "source": [
    "#check if the proposed solution is a solution\n",
    "apply(S, L1) == apply(S, L2)"
   ]
  },
  {
   "cell_type": "code",
   "execution_count": 38,
   "id": "23e95f82-3653-48d6-9af9-822b639ba3a6",
   "metadata": {},
   "outputs": [
    {
     "data": {
      "text/plain": [
       "'bbaabbbaabbaabbbaa'"
      ]
     },
     "execution_count": 38,
     "metadata": {},
     "output_type": "execute_result"
    }
   ],
   "source": [
    "#If you have one correspondce we have infinite of them\n",
    "apply((2, 1, 2, 0, 2, 1, 2, 0), L1)"
   ]
  },
  {
   "cell_type": "code",
   "execution_count": 39,
   "id": "749bf9f3-77c6-4a20-872e-f4a7b07cfbdd",
   "metadata": {},
   "outputs": [
    {
     "data": {
      "text/plain": [
       "'bbaabbbaabbaabbbaa'"
      ]
     },
     "execution_count": 39,
     "metadata": {},
     "output_type": "execute_result"
    }
   ],
   "source": [
    "apply((2, 1, 2, 0, 2, 1, 2, 0), L2)"
   ]
  },
  {
   "cell_type": "code",
   "execution_count": 58,
   "id": "443611c3-eddd-4f36-bb25-df4621b731c7",
   "metadata": {},
   "outputs": [
    {
     "data": {
      "text/plain": [
       "True"
      ]
     },
     "execution_count": 58,
     "metadata": {},
     "output_type": "execute_result"
    }
   ],
   "source": [
    "#Example another correspondance using different indeces\n",
    "apply((2, 1, 2, 0, 2, 1, 2, 0), L1) == apply((2, 1, 2, 0, 2, 1, 2, 0), L2)"
   ]
  },
  {
   "cell_type": "markdown",
   "id": "0c23b9af-ab1a-418b-a309-1800956be2e7",
   "metadata": {},
   "source": [
    "***\n",
    "## $Example$ $for$ $No$-$Correspondence$ \n",
    "***"
   ]
  },
  {
   "cell_type": "code",
   "execution_count": 41,
   "id": "aaf6d5d9-87db-4bbe-8787-898015f96051",
   "metadata": {
    "tags": []
   },
   "outputs": [],
   "source": [
    "#List one (tuples)\n",
    "L1 = ((a, b), (b, b, a))"
   ]
  },
  {
   "cell_type": "markdown",
   "id": "6d9211b0-e8e2-44d0-a178-2e0db6e4564b",
   "metadata": {},
   "source": [
    "We can try the $brute-force$ approach which mean to try all the possible solution of legth one, two and so on.<br> \n",
    "Which means to get each of the indeces for the elements of $L1$ and compare them elements in $L2$ when we concatenate them."
   ]
  },
  {
   "cell_type": "code",
   "execution_count": 42,
   "id": "23f0bd7c-9749-4c60-a0e5-72671e814e9b",
   "metadata": {},
   "outputs": [],
   "source": [
    "#List two (tuples)\n",
    "L2 = ((a, a), (b, b))"
   ]
  },
  {
   "cell_type": "markdown",
   "id": "072b3e57-8757-408d-8fff-978555995d1c",
   "metadata": {},
   "source": [
    "Possibles $((0, ), (1, ), (0, 0), (0, 1), (1, 0), (1, 1), (0, 0, 0), (0, 0, 1), (0, 1, 0), (1, 0 , 0)$ and so on$)$<br>\n",
    "Each of the solution is $finite$, but number of possible solution that we have to check with the brute force is $infinite$. <br>\n",
    "We have infinite number of finite solutions that is the difficulties we face.<br>\n",
    "And as we can see the legnth is growing very big and we have only two characters defined in our alphabet it will be very hard to brute force it."
   ]
  },
  {
   "cell_type": "markdown",
   "id": "567d3132-c6b8-4eb1-bff8-5bcb76eda561",
   "metadata": {},
   "source": [
    "For these two particular list we can ask ourselves the following question:<br> \n",
    "Is there any $S$ that show correspondence between $L1$ and $L2$ $?$<br> \n",
    "$ S = \\?\\$<br> "
   ]
  },
  {
   "cell_type": "markdown",
   "id": "d956db15-4176-4d1d-acfb-d18f6176bcfc",
   "metadata": {},
   "source": [
    "The input for the correspondence problem  for an instance of it is two List  and the output is just true or false"
   ]
  },
  {
   "cell_type": "markdown",
   "id": "70aee9b9-d0f3-421c-bc54-88af61b1ccf4",
   "metadata": {},
   "source": [
    "$(L_1, L_2) \\rightarrow \\{True, False\\} \\qquad |L_1| = |L_2| $"
   ]
  },
  {
   "cell_type": "markdown",
   "id": "df574feb-7fe3-4f75-8f66-ce35fe5633a9",
   "metadata": {},
   "source": [
    "We start with two list $L1$ and $L2$  we can take all possible finite lists (so every list has to have a finite length) of strings over the alphabet $A & B$<br>\n",
    "and on that set of all possible strings create all of the pairs of strings and lets say $L1$ and $L2$ the two lists correspond to each other<br>\n",
    "if there is an $S$ that when we apply $S$ to them they correspond we say True for them or in otherwords they correspond.<br>\n",
    "Most of the lists they won't correspond to each other and we say False for them or they dont correspond (no correspondance).<br>\n",
    "##### What Emil Post showed is a logical proof based on the work of Turing that there is no algorithm available to solve this problem "
   ]
  },
  {
   "cell_type": "markdown",
   "id": "5a9ecfdb-db15-48ba-8ecf-8be9484e8226",
   "metadata": {
    "tags": []
   },
   "source": [
    "***"
   ]
  },
  {
   "cell_type": "markdown",
   "id": "d0491af7-8fd6-4388-81c2-f77ceb90c2e2",
   "metadata": {},
   "source": [
    "## $What$ $is$ [$Bounded$ $PCP$](https://en.wikipedia.org/wiki/Post_correspondence_problem) ?\n",
    "One way to change the problem is to limit the number of tiles or indices in the solution $S$ a.k.a. to bound $S$ to $K$ $elements$, where $K$ is a positive integer. This is the most important variant of PCP called the Bounded Post Correspondence problem. The problem can be solved by a brute force algorithm, but it may be difficult since BPCP is $NP-complete$.\n",
    "****\n"
   ]
  },
  {
   "cell_type": "markdown",
   "id": "9dc49de3-e690-43b0-8dec-af035fc1e67a",
   "metadata": {},
   "source": [
    "$ |s| \\leq K \\qquad K \\in \\mathbb{N} \\ $\n",
    "\n",
    "The size of $S$ can't be any longer then $K$ for some $K$\n",
    "\n"
   ]
  },
  {
   "cell_type": "markdown",
   "id": "08ede495-e889-4699-a948-64e985b4b444",
   "metadata": {},
   "source": [
    "#### An Example for Bounded PCP"
   ]
  },
  {
   "cell_type": "code",
   "execution_count": 43,
   "id": "def1c561-b587-4230-9980-eb73bdbaddfa",
   "metadata": {
    "tags": []
   },
   "outputs": [],
   "source": [
    "# K is the number of possibilities(the bound for the bouned problem). How long the solution can be?\n",
    "# For example if K is 2 it correspond to ((0, ), (1, ), (0, 0), (0, 1), (1, 0), (1, 1)) and so on.\n",
    "#Bounded Version of PCP\n",
    "\n",
    "#The generators\n",
    "gens  = []\n",
    "#Python function to solve the Bounded Post Correspondence Problem using itertools \n",
    "def bpcp_solver(L1, L2, K):\n",
    "    #Loop through all possible solutions\n",
    "    for i in range(1, K + 1):\n",
    "        #creates a generator for solutions of legth i, appended to gens\n",
    "        gens.append(it.product(*[range(len(L1))]* i))\n",
    "        #print(list(it.product(*[range(len(L1))]* i)))\n",
    "    if correspond(L1, L2):\n",
    "        return True\n",
    "    else:\n",
    "        print(\"No Solution Found for given K =\", K)\n",
    "        return False\n",
    "    return True or False\n",
    "\n",
    "\n",
    "def correspond(L1, L2):\n",
    "    print(\"List one (tuples) is: \", L1)\n",
    "    print(\"List two (tuples) is: \", L2)\n",
    "    #it.chain just chains generators togather.\n",
    "    for solution in it.chain(*gens):\n",
    "        if(apply(solution, L1) == apply(solution, L2)):\n",
    "            print(\"Proposed Solution is:\", solution)\n",
    "            return True\n",
    "        #if you want to check all the possibilities of K uncomment the line below\n",
    "        #print(solution)\n",
    "    return False\n",
    "\n",
    "#list(it.product(range(len(L1)), range(len(L2))))"
   ]
  },
  {
   "cell_type": "code",
   "execution_count": 44,
   "id": "f13730b7-dabf-4e2e-bb31-e8631c16c55c",
   "metadata": {},
   "outputs": [
    {
     "name": "stdout",
     "output_type": "stream",
     "text": [
      "List one (tuples) is:  (('a', 'b'), ('b', 'b', 'a'))\n",
      "List two (tuples) is:  (('a', 'a'), ('b', 'b'))\n",
      "No Solution Found for given K = 4\n"
     ]
    },
    {
     "data": {
      "text/plain": [
       "False"
      ]
     },
     "execution_count": 44,
     "metadata": {},
     "output_type": "execute_result"
    }
   ],
   "source": [
    "bpcp_solver(L1, L2, 4)"
   ]
  },
  {
   "cell_type": "code",
   "execution_count": 45,
   "id": "ace750bd-54b8-4ea5-9dfe-8255c1965b48",
   "metadata": {},
   "outputs": [
    {
     "name": "stdout",
     "output_type": "stream",
     "text": [
      "List one (tuples) is:  (('a',), ('a', 'b'), ('b', 'b', 'a'))\n",
      "List two (tuples) is:  (('b', 'a', 'a'), ('a', 'a'), ('b', 'b'))\n",
      "Proposed Solution is: (2, 1, 2, 0)\n"
     ]
    },
    {
     "data": {
      "text/plain": [
       "True"
      ]
     },
     "execution_count": 45,
     "metadata": {},
     "output_type": "execute_result"
    }
   ],
   "source": [
    "L1 = ((a, ), (a, b), (b, b, a))\n",
    "L2 =((b, a, a), (a, a), (b, b)) \n",
    "bpcp_solver(L1, L2, 4)"
   ]
  },
  {
   "cell_type": "markdown",
   "id": "119ef3a4-8594-4606-94cc-8c1e54c81053",
   "metadata": {},
   "source": [
    "##### Feel free to download the notebook and test different K values and different lists to see what the outcome will be.\n",
    "# $Thanks$ $for$ $reading$!"
   ]
  },
  {
   "cell_type": "markdown",
   "id": "8cf42141-2f73-4fb3-9b61-99351f0f3969",
   "metadata": {},
   "source": [
    "# Refrences\n",
    "***\n",
    "1. Python docs: [Itertools](https://docs.python.org/3/library/itertools.html#module-itertools)\n",
    "2. Wikipedia: [Undecidable_problem](https://en.wikipedia.org/wiki/Undecidable_problem)\n",
    "3. Lab Video: [ Post Correspondence Problem with dominoes](https://web.microsoftstream.com/video/52f42546-f8b9-43d5-8c6a-e1a18cc38342)\n",
    "4. Geeksforgeeks: [Post Correspondence Problem](https://www.geeksforgeeks.org/post-correspondence-problem/#:~:text=Post%20Correspondence%20Problem%20is%20a,as%20string%20made%20by%20Denominators.)\n",
    "5. Wikipedia:[Post Correspondence Problem](https://en.wikipedia.org/wiki/Post_correspondence_problem)\n",
    "6. Lab Video: [The Bounded Post Correspondence Problem](https://web.microsoftstream.com/video/30ca7c63-b69d-46e3-b776-2749592bec04)\n",
    "7.Lab Video: [Turing Machines](https://web.microsoftstream.com/video/d01b0c28-7276-49b3-a67b-af0219d6e6fe)\n",
    "8.Lab Video: [The Halting Problem](https://web.microsoftstream.com/video/34a8247a-a767-4190-bbb2-0c76756ddedd)\n",
    "9.brilliant: [Halting Problem](https://brilliant.org/wiki/halting-problem/)"
   ]
  },
  {
   "cell_type": "markdown",
   "id": "ce7b73bc-5d1d-4ace-81cd-20dba7474b3f",
   "metadata": {},
   "source": [
    "# End"
   ]
  }
 ],
 "metadata": {
  "kernelspec": {
   "display_name": "Python 3",
   "language": "python",
   "name": "python3"
  },
  "language_info": {
   "codemirror_mode": {
    "name": "ipython",
    "version": 3
   },
   "file_extension": ".py",
   "mimetype": "text/x-python",
   "name": "python",
   "nbconvert_exporter": "python",
   "pygments_lexer": "ipython3",
   "version": "3.8.8"
  }
 },
 "nbformat": 4,
 "nbformat_minor": 5
}
